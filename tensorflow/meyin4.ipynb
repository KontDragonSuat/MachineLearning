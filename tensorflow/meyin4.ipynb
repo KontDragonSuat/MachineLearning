{
 "cells": [
  {
   "cell_type": "code",
   "execution_count": 1,
   "id": "653dcbf8",
   "metadata": {},
   "outputs": [],
   "source": [
    "import pandas as pd\n",
    "import numpy as np\n",
    "import matplotlib.pyplot as plt\n",
    "import seaborn as sbn"
   ]
  },
  {
   "cell_type": "code",
   "execution_count": 2,
   "id": "5a2c76e1",
   "metadata": {},
   "outputs": [],
   "source": [
    "df = pd.read_excel(\"merc.xlsx\")"
   ]
  },
  {
   "cell_type": "code",
   "execution_count": 3,
   "id": "9976f1af",
   "metadata": {},
   "outputs": [
    {
     "data": {
      "text/html": [
       "<div>\n",
       "<style scoped>\n",
       "    .dataframe tbody tr th:only-of-type {\n",
       "        vertical-align: middle;\n",
       "    }\n",
       "\n",
       "    .dataframe tbody tr th {\n",
       "        vertical-align: top;\n",
       "    }\n",
       "\n",
       "    .dataframe thead th {\n",
       "        text-align: right;\n",
       "    }\n",
       "</style>\n",
       "<table border=\"1\" class=\"dataframe\">\n",
       "  <thead>\n",
       "    <tr style=\"text-align: right;\">\n",
       "      <th></th>\n",
       "      <th>year</th>\n",
       "      <th>price</th>\n",
       "      <th>transmission</th>\n",
       "      <th>mileage</th>\n",
       "      <th>tax</th>\n",
       "      <th>mpg</th>\n",
       "      <th>engineSize</th>\n",
       "    </tr>\n",
       "  </thead>\n",
       "  <tbody>\n",
       "    <tr>\n",
       "      <th>0</th>\n",
       "      <td>2005</td>\n",
       "      <td>5200</td>\n",
       "      <td>Automatic</td>\n",
       "      <td>63000</td>\n",
       "      <td>325</td>\n",
       "      <td>32.1</td>\n",
       "      <td>1.8</td>\n",
       "    </tr>\n",
       "    <tr>\n",
       "      <th>1</th>\n",
       "      <td>2017</td>\n",
       "      <td>34948</td>\n",
       "      <td>Automatic</td>\n",
       "      <td>27000</td>\n",
       "      <td>20</td>\n",
       "      <td>61.4</td>\n",
       "      <td>2.1</td>\n",
       "    </tr>\n",
       "    <tr>\n",
       "      <th>2</th>\n",
       "      <td>2016</td>\n",
       "      <td>49948</td>\n",
       "      <td>Automatic</td>\n",
       "      <td>6200</td>\n",
       "      <td>555</td>\n",
       "      <td>28.0</td>\n",
       "      <td>5.5</td>\n",
       "    </tr>\n",
       "    <tr>\n",
       "      <th>3</th>\n",
       "      <td>2016</td>\n",
       "      <td>61948</td>\n",
       "      <td>Automatic</td>\n",
       "      <td>16000</td>\n",
       "      <td>325</td>\n",
       "      <td>30.4</td>\n",
       "      <td>4.0</td>\n",
       "    </tr>\n",
       "    <tr>\n",
       "      <th>4</th>\n",
       "      <td>2016</td>\n",
       "      <td>73948</td>\n",
       "      <td>Automatic</td>\n",
       "      <td>4000</td>\n",
       "      <td>325</td>\n",
       "      <td>30.1</td>\n",
       "      <td>4.0</td>\n",
       "    </tr>\n",
       "  </tbody>\n",
       "</table>\n",
       "</div>"
      ],
      "text/plain": [
       "   year  price transmission  mileage  tax   mpg  engineSize\n",
       "0  2005   5200    Automatic    63000  325  32.1         1.8\n",
       "1  2017  34948    Automatic    27000   20  61.4         2.1\n",
       "2  2016  49948    Automatic     6200  555  28.0         5.5\n",
       "3  2016  61948    Automatic    16000  325  30.4         4.0\n",
       "4  2016  73948    Automatic     4000  325  30.1         4.0"
      ]
     },
     "execution_count": 3,
     "metadata": {},
     "output_type": "execute_result"
    }
   ],
   "source": [
    "df.head()"
   ]
  },
  {
   "cell_type": "code",
   "execution_count": 4,
   "id": "84567c91",
   "metadata": {},
   "outputs": [
    {
     "data": {
      "text/html": [
       "<div>\n",
       "<style scoped>\n",
       "    .dataframe tbody tr th:only-of-type {\n",
       "        vertical-align: middle;\n",
       "    }\n",
       "\n",
       "    .dataframe tbody tr th {\n",
       "        vertical-align: top;\n",
       "    }\n",
       "\n",
       "    .dataframe thead th {\n",
       "        text-align: right;\n",
       "    }\n",
       "</style>\n",
       "<table border=\"1\" class=\"dataframe\">\n",
       "  <thead>\n",
       "    <tr style=\"text-align: right;\">\n",
       "      <th></th>\n",
       "      <th>year</th>\n",
       "      <th>price</th>\n",
       "      <th>mileage</th>\n",
       "      <th>tax</th>\n",
       "      <th>mpg</th>\n",
       "      <th>engineSize</th>\n",
       "    </tr>\n",
       "  </thead>\n",
       "  <tbody>\n",
       "    <tr>\n",
       "      <th>count</th>\n",
       "      <td>13119.000000</td>\n",
       "      <td>13119.000000</td>\n",
       "      <td>13119.000000</td>\n",
       "      <td>13119.000000</td>\n",
       "      <td>13119.000000</td>\n",
       "      <td>13119.000000</td>\n",
       "    </tr>\n",
       "    <tr>\n",
       "      <th>mean</th>\n",
       "      <td>2017.296288</td>\n",
       "      <td>24698.596920</td>\n",
       "      <td>21949.559037</td>\n",
       "      <td>129.972178</td>\n",
       "      <td>55.155843</td>\n",
       "      <td>2.071530</td>\n",
       "    </tr>\n",
       "    <tr>\n",
       "      <th>std</th>\n",
       "      <td>2.224709</td>\n",
       "      <td>11842.675542</td>\n",
       "      <td>21176.512267</td>\n",
       "      <td>65.260286</td>\n",
       "      <td>15.220082</td>\n",
       "      <td>0.572426</td>\n",
       "    </tr>\n",
       "    <tr>\n",
       "      <th>min</th>\n",
       "      <td>1970.000000</td>\n",
       "      <td>650.000000</td>\n",
       "      <td>1.000000</td>\n",
       "      <td>0.000000</td>\n",
       "      <td>1.100000</td>\n",
       "      <td>0.000000</td>\n",
       "    </tr>\n",
       "    <tr>\n",
       "      <th>25%</th>\n",
       "      <td>2016.000000</td>\n",
       "      <td>17450.000000</td>\n",
       "      <td>6097.500000</td>\n",
       "      <td>125.000000</td>\n",
       "      <td>45.600000</td>\n",
       "      <td>1.800000</td>\n",
       "    </tr>\n",
       "    <tr>\n",
       "      <th>50%</th>\n",
       "      <td>2018.000000</td>\n",
       "      <td>22480.000000</td>\n",
       "      <td>15189.000000</td>\n",
       "      <td>145.000000</td>\n",
       "      <td>56.500000</td>\n",
       "      <td>2.000000</td>\n",
       "    </tr>\n",
       "    <tr>\n",
       "      <th>75%</th>\n",
       "      <td>2019.000000</td>\n",
       "      <td>28980.000000</td>\n",
       "      <td>31779.500000</td>\n",
       "      <td>145.000000</td>\n",
       "      <td>64.200000</td>\n",
       "      <td>2.100000</td>\n",
       "    </tr>\n",
       "    <tr>\n",
       "      <th>max</th>\n",
       "      <td>2020.000000</td>\n",
       "      <td>159999.000000</td>\n",
       "      <td>259000.000000</td>\n",
       "      <td>580.000000</td>\n",
       "      <td>217.300000</td>\n",
       "      <td>6.200000</td>\n",
       "    </tr>\n",
       "  </tbody>\n",
       "</table>\n",
       "</div>"
      ],
      "text/plain": [
       "               year          price        mileage           tax           mpg  \\\n",
       "count  13119.000000   13119.000000   13119.000000  13119.000000  13119.000000   \n",
       "mean    2017.296288   24698.596920   21949.559037    129.972178     55.155843   \n",
       "std        2.224709   11842.675542   21176.512267     65.260286     15.220082   \n",
       "min     1970.000000     650.000000       1.000000      0.000000      1.100000   \n",
       "25%     2016.000000   17450.000000    6097.500000    125.000000     45.600000   \n",
       "50%     2018.000000   22480.000000   15189.000000    145.000000     56.500000   \n",
       "75%     2019.000000   28980.000000   31779.500000    145.000000     64.200000   \n",
       "max     2020.000000  159999.000000  259000.000000    580.000000    217.300000   \n",
       "\n",
       "         engineSize  \n",
       "count  13119.000000  \n",
       "mean       2.071530  \n",
       "std        0.572426  \n",
       "min        0.000000  \n",
       "25%        1.800000  \n",
       "50%        2.000000  \n",
       "75%        2.100000  \n",
       "max        6.200000  "
      ]
     },
     "execution_count": 4,
     "metadata": {},
     "output_type": "execute_result"
    }
   ],
   "source": [
    "df.describe()"
   ]
  },
  {
   "cell_type": "code",
   "execution_count": 5,
   "id": "ad06fb55",
   "metadata": {},
   "outputs": [
    {
     "data": {
      "text/plain": [
       "year            0\n",
       "price           0\n",
       "transmission    0\n",
       "mileage         0\n",
       "tax             0\n",
       "mpg             0\n",
       "engineSize      0\n",
       "dtype: int64"
      ]
     },
     "execution_count": 5,
     "metadata": {},
     "output_type": "execute_result"
    }
   ],
   "source": [
    "df.isnull().sum()"
   ]
  },
  {
   "cell_type": "code",
   "execution_count": 6,
   "id": "f0c406c6",
   "metadata": {},
   "outputs": [
    {
     "data": {
      "text/plain": [
       "<seaborn.axisgrid.FacetGrid at 0x1fc516683a0>"
      ]
     },
     "execution_count": 6,
     "metadata": {},
     "output_type": "execute_result"
    },
    {
     "data": {
      "image/png": "[encoded data removed]",
      "text/plain": [
       "<Figure size 500x500 with 1 Axes>"
      ]
     },
     "metadata": {},
     "output_type": "display_data"
    }
   ],
   "source": [
    "sbn.displot(df[\"price\"], kde=True)\n",
    "# İyi bir grafik fakat çok para olan arabalar bizi bozabilir"
   ]
  },
  {
   "cell_type": "code",
   "execution_count": 7,
   "id": "53df2607",
   "metadata": {},
   "outputs": [
    {
     "data": {
      "text/plain": [
       "<Axes: xlabel='year', ylabel='count'>"
      ]
     },
     "execution_count": 7,
     "metadata": {},
     "output_type": "execute_result"
    },
    {
     "data": {
      "image/png": "[encoded data removed]",
      "text/plain": [
       "<Figure size 640x480 with 1 Axes>"
      ]
     },
     "metadata": {},
     "output_type": "display_data"
    }
   ],
   "source": [
    "sbn.countplot(x=\"year\", data=df)"
   ]
  },
  {
   "cell_type": "code",
   "execution_count": 8,
   "id": "8a91216e",
   "metadata": {},
   "outputs": [
    {
     "data": {
      "text/html": [
       "<div>\n",
       "<style scoped>\n",
       "    .dataframe tbody tr th:only-of-type {\n",
       "        vertical-align: middle;\n",
       "    }\n",
       "\n",
       "    .dataframe tbody tr th {\n",
       "        vertical-align: top;\n",
       "    }\n",
       "\n",
       "    .dataframe thead th {\n",
       "        text-align: right;\n",
       "    }\n",
       "</style>\n",
       "<table border=\"1\" class=\"dataframe\">\n",
       "  <thead>\n",
       "    <tr style=\"text-align: right;\">\n",
       "      <th></th>\n",
       "      <th>year</th>\n",
       "      <th>price</th>\n",
       "      <th>mileage</th>\n",
       "      <th>tax</th>\n",
       "      <th>mpg</th>\n",
       "      <th>engineSize</th>\n",
       "    </tr>\n",
       "  </thead>\n",
       "  <tbody>\n",
       "    <tr>\n",
       "      <th>year</th>\n",
       "      <td>1.000000</td>\n",
       "      <td>0.520712</td>\n",
       "      <td>-0.738027</td>\n",
       "      <td>0.012480</td>\n",
       "      <td>-0.094626</td>\n",
       "      <td>-0.142147</td>\n",
       "    </tr>\n",
       "    <tr>\n",
       "      <th>price</th>\n",
       "      <td>0.520712</td>\n",
       "      <td>1.000000</td>\n",
       "      <td>-0.537214</td>\n",
       "      <td>0.268717</td>\n",
       "      <td>-0.438445</td>\n",
       "      <td>0.516126</td>\n",
       "    </tr>\n",
       "    <tr>\n",
       "      <th>mileage</th>\n",
       "      <td>-0.738027</td>\n",
       "      <td>-0.537214</td>\n",
       "      <td>1.000000</td>\n",
       "      <td>-0.160223</td>\n",
       "      <td>0.202850</td>\n",
       "      <td>0.063652</td>\n",
       "    </tr>\n",
       "    <tr>\n",
       "      <th>tax</th>\n",
       "      <td>0.012480</td>\n",
       "      <td>0.268717</td>\n",
       "      <td>-0.160223</td>\n",
       "      <td>1.000000</td>\n",
       "      <td>-0.513742</td>\n",
       "      <td>0.338341</td>\n",
       "    </tr>\n",
       "    <tr>\n",
       "      <th>mpg</th>\n",
       "      <td>-0.094626</td>\n",
       "      <td>-0.438445</td>\n",
       "      <td>0.202850</td>\n",
       "      <td>-0.513742</td>\n",
       "      <td>1.000000</td>\n",
       "      <td>-0.339862</td>\n",
       "    </tr>\n",
       "    <tr>\n",
       "      <th>engineSize</th>\n",
       "      <td>-0.142147</td>\n",
       "      <td>0.516126</td>\n",
       "      <td>0.063652</td>\n",
       "      <td>0.338341</td>\n",
       "      <td>-0.339862</td>\n",
       "      <td>1.000000</td>\n",
       "    </tr>\n",
       "  </tbody>\n",
       "</table>\n",
       "</div>"
      ],
      "text/plain": [
       "                year     price   mileage       tax       mpg  engineSize\n",
       "year        1.000000  0.520712 -0.738027  0.012480 -0.094626   -0.142147\n",
       "price       0.520712  1.000000 -0.537214  0.268717 -0.438445    0.516126\n",
       "mileage    -0.738027 -0.537214  1.000000 -0.160223  0.202850    0.063652\n",
       "tax         0.012480  0.268717 -0.160223  1.000000 -0.513742    0.338341\n",
       "mpg        -0.094626 -0.438445  0.202850 -0.513742  1.000000   -0.339862\n",
       "engineSize -0.142147  0.516126  0.063652  0.338341 -0.339862    1.000000"
      ]
     },
     "execution_count": 8,
     "metadata": {},
     "output_type": "execute_result"
    }
   ],
   "source": [
    "df.corr(numeric_only=True)"
   ]
  },
  {
   "cell_type": "code",
   "execution_count": 9,
   "id": "0cfd996b",
   "metadata": {},
   "outputs": [
    {
     "data": {
      "text/plain": [
       "mileage      -0.537214\n",
       "mpg          -0.438445\n",
       "tax           0.268717\n",
       "engineSize    0.516126\n",
       "year          0.520712\n",
       "price         1.000000\n",
       "Name: price, dtype: float64"
      ]
     },
     "execution_count": 9,
     "metadata": {},
     "output_type": "execute_result"
    }
   ],
   "source": [
    "df.corr(numeric_only=True)[\"price\"].sort_values()"
   ]
  },
  {
   "cell_type": "code",
   "execution_count": 10,
   "id": "1ae5c5d8",
   "metadata": {},
   "outputs": [
    {
     "data": {
      "text/plain": [
       "<Axes: xlabel='mileage', ylabel='price'>"
      ]
     },
     "execution_count": 10,
     "metadata": {},
     "output_type": "execute_result"
    },
    {
     "data": {
      "image/png": "[encoded data removed]",
      "text/plain": [
       "<Figure size 640x480 with 1 Axes>"
      ]
     },
     "metadata": {},
     "output_type": "display_data"
    }
   ],
   "source": [
    "sbn.scatterplot(x=\"mileage\",y=\"price\", data=df)\n",
    "# km arttıkça fiyat düşüyor"
   ]
  },
  {
   "cell_type": "code",
   "execution_count": 11,
   "id": "dd5088b1",
   "metadata": {},
   "outputs": [
    {
     "data": {
      "text/html": [
       "<div>\n",
       "<style scoped>\n",
       "    .dataframe tbody tr th:only-of-type {\n",
       "        vertical-align: middle;\n",
       "    }\n",
       "\n",
       "    .dataframe tbody tr th {\n",
       "        vertical-align: top;\n",
       "    }\n",
       "\n",
       "    .dataframe thead th {\n",
       "        text-align: right;\n",
       "    }\n",
       "</style>\n",
       "<table border=\"1\" class=\"dataframe\">\n",
       "  <thead>\n",
       "    <tr style=\"text-align: right;\">\n",
       "      <th></th>\n",
       "      <th>year</th>\n",
       "      <th>price</th>\n",
       "      <th>transmission</th>\n",
       "      <th>mileage</th>\n",
       "      <th>tax</th>\n",
       "      <th>mpg</th>\n",
       "      <th>engineSize</th>\n",
       "    </tr>\n",
       "  </thead>\n",
       "  <tbody>\n",
       "    <tr>\n",
       "      <th>6199</th>\n",
       "      <td>2020</td>\n",
       "      <td>159999</td>\n",
       "      <td>Semi-Auto</td>\n",
       "      <td>1350</td>\n",
       "      <td>145</td>\n",
       "      <td>21.4</td>\n",
       "      <td>4.0</td>\n",
       "    </tr>\n",
       "    <tr>\n",
       "      <th>10044</th>\n",
       "      <td>2020</td>\n",
       "      <td>154998</td>\n",
       "      <td>Automatic</td>\n",
       "      <td>3000</td>\n",
       "      <td>150</td>\n",
       "      <td>21.4</td>\n",
       "      <td>4.0</td>\n",
       "    </tr>\n",
       "    <tr>\n",
       "      <th>5</th>\n",
       "      <td>2011</td>\n",
       "      <td>149948</td>\n",
       "      <td>Automatic</td>\n",
       "      <td>3000</td>\n",
       "      <td>570</td>\n",
       "      <td>21.4</td>\n",
       "      <td>6.2</td>\n",
       "    </tr>\n",
       "    <tr>\n",
       "      <th>8737</th>\n",
       "      <td>2019</td>\n",
       "      <td>140319</td>\n",
       "      <td>Semi-Auto</td>\n",
       "      <td>785</td>\n",
       "      <td>150</td>\n",
       "      <td>22.1</td>\n",
       "      <td>4.0</td>\n",
       "    </tr>\n",
       "    <tr>\n",
       "      <th>6386</th>\n",
       "      <td>2018</td>\n",
       "      <td>139995</td>\n",
       "      <td>Semi-Auto</td>\n",
       "      <td>13046</td>\n",
       "      <td>145</td>\n",
       "      <td>21.4</td>\n",
       "      <td>4.0</td>\n",
       "    </tr>\n",
       "    <tr>\n",
       "      <th>8</th>\n",
       "      <td>2019</td>\n",
       "      <td>139948</td>\n",
       "      <td>Automatic</td>\n",
       "      <td>12000</td>\n",
       "      <td>145</td>\n",
       "      <td>21.4</td>\n",
       "      <td>4.0</td>\n",
       "    </tr>\n",
       "    <tr>\n",
       "      <th>9133</th>\n",
       "      <td>2019</td>\n",
       "      <td>139559</td>\n",
       "      <td>Semi-Auto</td>\n",
       "      <td>1000</td>\n",
       "      <td>145</td>\n",
       "      <td>22.1</td>\n",
       "      <td>4.0</td>\n",
       "    </tr>\n",
       "    <tr>\n",
       "      <th>8821</th>\n",
       "      <td>2020</td>\n",
       "      <td>138439</td>\n",
       "      <td>Semi-Auto</td>\n",
       "      <td>1000</td>\n",
       "      <td>145</td>\n",
       "      <td>22.1</td>\n",
       "      <td>4.0</td>\n",
       "    </tr>\n",
       "    <tr>\n",
       "      <th>5902</th>\n",
       "      <td>2018</td>\n",
       "      <td>135771</td>\n",
       "      <td>Semi-Auto</td>\n",
       "      <td>19000</td>\n",
       "      <td>145</td>\n",
       "      <td>21.4</td>\n",
       "      <td>4.0</td>\n",
       "    </tr>\n",
       "    <tr>\n",
       "      <th>7864</th>\n",
       "      <td>2018</td>\n",
       "      <td>135124</td>\n",
       "      <td>Semi-Auto</td>\n",
       "      <td>18234</td>\n",
       "      <td>150</td>\n",
       "      <td>21.4</td>\n",
       "      <td>4.0</td>\n",
       "    </tr>\n",
       "    <tr>\n",
       "      <th>8673</th>\n",
       "      <td>2019</td>\n",
       "      <td>134219</td>\n",
       "      <td>Semi-Auto</td>\n",
       "      <td>1000</td>\n",
       "      <td>145</td>\n",
       "      <td>24.8</td>\n",
       "      <td>4.0</td>\n",
       "    </tr>\n",
       "    <tr>\n",
       "      <th>6210</th>\n",
       "      <td>2019</td>\n",
       "      <td>129990</td>\n",
       "      <td>Automatic</td>\n",
       "      <td>1000</td>\n",
       "      <td>145</td>\n",
       "      <td>24.8</td>\n",
       "      <td>4.0</td>\n",
       "    </tr>\n",
       "    <tr>\n",
       "      <th>4759</th>\n",
       "      <td>2019</td>\n",
       "      <td>126000</td>\n",
       "      <td>Automatic</td>\n",
       "      <td>250</td>\n",
       "      <td>145</td>\n",
       "      <td>24.6</td>\n",
       "      <td>4.0</td>\n",
       "    </tr>\n",
       "    <tr>\n",
       "      <th>2647</th>\n",
       "      <td>2019</td>\n",
       "      <td>125796</td>\n",
       "      <td>Automatic</td>\n",
       "      <td>637</td>\n",
       "      <td>145</td>\n",
       "      <td>24.8</td>\n",
       "      <td>4.0</td>\n",
       "    </tr>\n",
       "    <tr>\n",
       "      <th>6223</th>\n",
       "      <td>2019</td>\n",
       "      <td>124999</td>\n",
       "      <td>Automatic</td>\n",
       "      <td>1500</td>\n",
       "      <td>145</td>\n",
       "      <td>31.7</td>\n",
       "      <td>4.0</td>\n",
       "    </tr>\n",
       "    <tr>\n",
       "      <th>4094</th>\n",
       "      <td>2019</td>\n",
       "      <td>124366</td>\n",
       "      <td>Semi-Auto</td>\n",
       "      <td>880</td>\n",
       "      <td>145</td>\n",
       "      <td>24.8</td>\n",
       "      <td>4.0</td>\n",
       "    </tr>\n",
       "    <tr>\n",
       "      <th>2629</th>\n",
       "      <td>2019</td>\n",
       "      <td>123846</td>\n",
       "      <td>Semi-Auto</td>\n",
       "      <td>2951</td>\n",
       "      <td>145</td>\n",
       "      <td>22.1</td>\n",
       "      <td>4.0</td>\n",
       "    </tr>\n",
       "    <tr>\n",
       "      <th>7134</th>\n",
       "      <td>2019</td>\n",
       "      <td>115359</td>\n",
       "      <td>Semi-Auto</td>\n",
       "      <td>1000</td>\n",
       "      <td>145</td>\n",
       "      <td>30.1</td>\n",
       "      <td>4.0</td>\n",
       "    </tr>\n",
       "    <tr>\n",
       "      <th>9159</th>\n",
       "      <td>2019</td>\n",
       "      <td>114199</td>\n",
       "      <td>Semi-Auto</td>\n",
       "      <td>891</td>\n",
       "      <td>145</td>\n",
       "      <td>22.6</td>\n",
       "      <td>4.0</td>\n",
       "    </tr>\n",
       "    <tr>\n",
       "      <th>1980</th>\n",
       "      <td>2019</td>\n",
       "      <td>109995</td>\n",
       "      <td>Semi-Auto</td>\n",
       "      <td>4688</td>\n",
       "      <td>150</td>\n",
       "      <td>31.7</td>\n",
       "      <td>4.0</td>\n",
       "    </tr>\n",
       "  </tbody>\n",
       "</table>\n",
       "</div>"
      ],
      "text/plain": [
       "       year   price transmission  mileage  tax   mpg  engineSize\n",
       "6199   2020  159999    Semi-Auto     1350  145  21.4         4.0\n",
       "10044  2020  154998    Automatic     3000  150  21.4         4.0\n",
       "5      2011  149948    Automatic     3000  570  21.4         6.2\n",
       "8737   2019  140319    Semi-Auto      785  150  22.1         4.0\n",
       "6386   2018  139995    Semi-Auto    13046  145  21.4         4.0\n",
       "8      2019  139948    Automatic    12000  145  21.4         4.0\n",
       "9133   2019  139559    Semi-Auto     1000  145  22.1         4.0\n",
       "8821   2020  138439    Semi-Auto     1000  145  22.1         4.0\n",
       "5902   2018  135771    Semi-Auto    19000  145  21.4         4.0\n",
       "7864   2018  135124    Semi-Auto    18234  150  21.4         4.0\n",
       "8673   2019  134219    Semi-Auto     1000  145  24.8         4.0\n",
       "6210   2019  129990    Automatic     1000  145  24.8         4.0\n",
       "4759   2019  126000    Automatic      250  145  24.6         4.0\n",
       "2647   2019  125796    Automatic      637  145  24.8         4.0\n",
       "6223   2019  124999    Automatic     1500  145  31.7         4.0\n",
       "4094   2019  124366    Semi-Auto      880  145  24.8         4.0\n",
       "2629   2019  123846    Semi-Auto     2951  145  22.1         4.0\n",
       "7134   2019  115359    Semi-Auto     1000  145  30.1         4.0\n",
       "9159   2019  114199    Semi-Auto      891  145  22.6         4.0\n",
       "1980   2019  109995    Semi-Auto     4688  150  31.7         4.0"
      ]
     },
     "execution_count": 11,
     "metadata": {},
     "output_type": "execute_result"
    }
   ],
   "source": [
    "df.sort_values(\"price\", ascending= False).head(20)"
   ]
  },
  {
   "cell_type": "code",
   "execution_count": 12,
   "id": "512567c6",
   "metadata": {},
   "outputs": [
    {
     "data": {
      "text/plain": [
       "13119"
      ]
     },
     "execution_count": 12,
     "metadata": {},
     "output_type": "execute_result"
    }
   ],
   "source": [
    "len(df)"
   ]
  },
  {
   "cell_type": "code",
   "execution_count": 13,
   "id": "34440240",
   "metadata": {},
   "outputs": [
    {
     "data": {
      "text/plain": [
       "131.19"
      ]
     },
     "execution_count": 13,
     "metadata": {},
     "output_type": "execute_result"
    }
   ],
   "source": [
    "len(df) * 0.01\n",
    "# Eğer bir dataframe in %99 unu alırsan, sonuç bozulmaz"
   ]
  },
  {
   "cell_type": "code",
   "execution_count": 14,
   "id": "5d76d625",
   "metadata": {},
   "outputs": [
    {
     "data": {
      "text/html": [
       "<div>\n",
       "<style scoped>\n",
       "    .dataframe tbody tr th:only-of-type {\n",
       "        vertical-align: middle;\n",
       "    }\n",
       "\n",
       "    .dataframe tbody tr th {\n",
       "        vertical-align: top;\n",
       "    }\n",
       "\n",
       "    .dataframe thead th {\n",
       "        text-align: right;\n",
       "    }\n",
       "</style>\n",
       "<table border=\"1\" class=\"dataframe\">\n",
       "  <thead>\n",
       "    <tr style=\"text-align: right;\">\n",
       "      <th></th>\n",
       "      <th>year</th>\n",
       "      <th>price</th>\n",
       "      <th>transmission</th>\n",
       "      <th>mileage</th>\n",
       "      <th>tax</th>\n",
       "      <th>mpg</th>\n",
       "      <th>engineSize</th>\n",
       "    </tr>\n",
       "  </thead>\n",
       "  <tbody>\n",
       "    <tr>\n",
       "      <th>6177</th>\n",
       "      <td>2019</td>\n",
       "      <td>65990</td>\n",
       "      <td>Semi-Auto</td>\n",
       "      <td>5076</td>\n",
       "      <td>150</td>\n",
       "      <td>30.4</td>\n",
       "      <td>3.0</td>\n",
       "    </tr>\n",
       "    <tr>\n",
       "      <th>5779</th>\n",
       "      <td>2020</td>\n",
       "      <td>65990</td>\n",
       "      <td>Semi-Auto</td>\n",
       "      <td>999</td>\n",
       "      <td>145</td>\n",
       "      <td>28.0</td>\n",
       "      <td>4.0</td>\n",
       "    </tr>\n",
       "    <tr>\n",
       "      <th>3191</th>\n",
       "      <td>2020</td>\n",
       "      <td>65980</td>\n",
       "      <td>Semi-Auto</td>\n",
       "      <td>3999</td>\n",
       "      <td>145</td>\n",
       "      <td>28.0</td>\n",
       "      <td>4.0</td>\n",
       "    </tr>\n",
       "    <tr>\n",
       "      <th>4727</th>\n",
       "      <td>2019</td>\n",
       "      <td>65000</td>\n",
       "      <td>Semi-Auto</td>\n",
       "      <td>3398</td>\n",
       "      <td>145</td>\n",
       "      <td>27.2</td>\n",
       "      <td>4.0</td>\n",
       "    </tr>\n",
       "    <tr>\n",
       "      <th>8814</th>\n",
       "      <td>2019</td>\n",
       "      <td>64999</td>\n",
       "      <td>Semi-Auto</td>\n",
       "      <td>119</td>\n",
       "      <td>145</td>\n",
       "      <td>40.9</td>\n",
       "      <td>3.0</td>\n",
       "    </tr>\n",
       "    <tr>\n",
       "      <th>...</th>\n",
       "      <td>...</td>\n",
       "      <td>...</td>\n",
       "      <td>...</td>\n",
       "      <td>...</td>\n",
       "      <td>...</td>\n",
       "      <td>...</td>\n",
       "      <td>...</td>\n",
       "    </tr>\n",
       "    <tr>\n",
       "      <th>11549</th>\n",
       "      <td>2002</td>\n",
       "      <td>1495</td>\n",
       "      <td>Automatic</td>\n",
       "      <td>13800</td>\n",
       "      <td>305</td>\n",
       "      <td>39.8</td>\n",
       "      <td>2.7</td>\n",
       "    </tr>\n",
       "    <tr>\n",
       "      <th>12594</th>\n",
       "      <td>2004</td>\n",
       "      <td>1495</td>\n",
       "      <td>Manual</td>\n",
       "      <td>119000</td>\n",
       "      <td>300</td>\n",
       "      <td>34.5</td>\n",
       "      <td>1.8</td>\n",
       "    </tr>\n",
       "    <tr>\n",
       "      <th>11765</th>\n",
       "      <td>2000</td>\n",
       "      <td>1490</td>\n",
       "      <td>Automatic</td>\n",
       "      <td>87000</td>\n",
       "      <td>265</td>\n",
       "      <td>27.2</td>\n",
       "      <td>3.2</td>\n",
       "    </tr>\n",
       "    <tr>\n",
       "      <th>12008</th>\n",
       "      <td>2010</td>\n",
       "      <td>1350</td>\n",
       "      <td>Manual</td>\n",
       "      <td>116126</td>\n",
       "      <td>145</td>\n",
       "      <td>54.3</td>\n",
       "      <td>2.0</td>\n",
       "    </tr>\n",
       "    <tr>\n",
       "      <th>11816</th>\n",
       "      <td>2003</td>\n",
       "      <td>650</td>\n",
       "      <td>Manual</td>\n",
       "      <td>109090</td>\n",
       "      <td>235</td>\n",
       "      <td>40.0</td>\n",
       "      <td>1.4</td>\n",
       "    </tr>\n",
       "  </tbody>\n",
       "</table>\n",
       "<p>12988 rows × 7 columns</p>\n",
       "</div>"
      ],
      "text/plain": [
       "       year  price transmission  mileage  tax   mpg  engineSize\n",
       "6177   2019  65990    Semi-Auto     5076  150  30.4         3.0\n",
       "5779   2020  65990    Semi-Auto      999  145  28.0         4.0\n",
       "3191   2020  65980    Semi-Auto     3999  145  28.0         4.0\n",
       "4727   2019  65000    Semi-Auto     3398  145  27.2         4.0\n",
       "8814   2019  64999    Semi-Auto      119  145  40.9         3.0\n",
       "...     ...    ...          ...      ...  ...   ...         ...\n",
       "11549  2002   1495    Automatic    13800  305  39.8         2.7\n",
       "12594  2004   1495       Manual   119000  300  34.5         1.8\n",
       "11765  2000   1490    Automatic    87000  265  27.2         3.2\n",
       "12008  2010   1350       Manual   116126  145  54.3         2.0\n",
       "11816  2003    650       Manual   109090  235  40.0         1.4\n",
       "\n",
       "[12988 rows x 7 columns]"
      ]
     },
     "execution_count": 14,
     "metadata": {},
     "output_type": "execute_result"
    }
   ],
   "source": [
    "df.sort_values(\"price\", ascending=False).iloc[131:]\n",
    "# En yüksek fiyattan sırala, 131. row dan sonrasını al"
   ]
  },
  {
   "cell_type": "code",
   "execution_count": 15,
   "id": "bd9595f0",
   "metadata": {},
   "outputs": [],
   "source": [
    "df99 = df.sort_values(\"price\", ascending=False).iloc[131:]"
   ]
  },
  {
   "cell_type": "code",
   "execution_count": 16,
   "id": "cc4affdb",
   "metadata": {},
   "outputs": [
    {
     "data": {
      "text/plain": [
       "<seaborn.axisgrid.FacetGrid at 0x1fc51415810>"
      ]
     },
     "execution_count": 16,
     "metadata": {},
     "output_type": "execute_result"
    },
    {
     "data": {
      "image/png": "[encoded data removed]",
      "text/plain": [
       "<Figure size 500x500 with 1 Axes>"
      ]
     },
     "metadata": {},
     "output_type": "display_data"
    }
   ],
   "source": [
    "sbn.displot(df99[\"price\"], kde= True)\n",
    "# Artık daha düzgün"
   ]
  },
  {
   "cell_type": "code",
   "execution_count": 17,
   "id": "2cf53942",
   "metadata": {},
   "outputs": [
    {
     "data": {
      "text/plain": [
       "year\n",
       "1970    24999.000000\n",
       "1997     9995.000000\n",
       "1998     8605.000000\n",
       "1999     5995.000000\n",
       "2000     5743.333333\n",
       "2001     4957.900000\n",
       "2002     5820.444444\n",
       "2003     4878.000000\n",
       "2004     4727.615385\n",
       "2005     4426.111111\n",
       "2006     4036.875000\n",
       "2007     5136.045455\n",
       "2008     6967.437500\n",
       "2009     6166.764706\n",
       "2010     8308.473684\n",
       "2011    12624.894737\n",
       "2012    10845.140351\n",
       "2013    11939.842466\n",
       "2014    14042.936864\n",
       "2015    16731.780020\n",
       "2016    19307.892948\n",
       "2017    21514.307854\n",
       "2018    25720.162918\n",
       "2019    31290.020865\n",
       "2020    35433.282337\n",
       "Name: price, dtype: float64"
      ]
     },
     "execution_count": 17,
     "metadata": {},
     "output_type": "execute_result"
    }
   ],
   "source": [
    "df.groupby(\"year\").mean(numeric_only=True)[\"price\"]"
   ]
  },
  {
   "cell_type": "code",
   "execution_count": 18,
   "id": "cc9d78f7",
   "metadata": {},
   "outputs": [
    {
     "data": {
      "text/plain": [
       "year\n",
       "1970    24999.000000\n",
       "1997     9995.000000\n",
       "1998     8605.000000\n",
       "1999     5995.000000\n",
       "2000     5743.333333\n",
       "2001     4957.900000\n",
       "2002     5820.444444\n",
       "2003     4878.000000\n",
       "2004     4727.615385\n",
       "2005     4426.111111\n",
       "2006     4036.875000\n",
       "2007     5136.045455\n",
       "2008     6967.437500\n",
       "2009     6166.764706\n",
       "2010     8308.473684\n",
       "2011     8913.459459\n",
       "2012    10845.140351\n",
       "2013    11939.842466\n",
       "2014    14042.936864\n",
       "2015    16647.822222\n",
       "2016    19223.558943\n",
       "2017    21356.280421\n",
       "2018    24800.844506\n",
       "2019    30289.524832\n",
       "2020    34234.794872\n",
       "Name: price, dtype: float64"
      ]
     },
     "execution_count": 18,
     "metadata": {},
     "output_type": "execute_result"
    }
   ],
   "source": [
    "df99.groupby(\"year\").mean(numeric_only=True)[\"price\"]"
   ]
  },
  {
   "cell_type": "code",
   "execution_count": 19,
   "id": "849ac998",
   "metadata": {},
   "outputs": [],
   "source": [
    "df = df99"
   ]
  },
  {
   "cell_type": "code",
   "execution_count": 20,
   "id": "48141dd9",
   "metadata": {},
   "outputs": [],
   "source": [
    "# 1970'te sakatlık olduğu için onu atıyoruz\n",
    "df = df[df.year != 1970]"
   ]
  },
  {
   "cell_type": "code",
   "execution_count": 21,
   "id": "28b42d9b",
   "metadata": {},
   "outputs": [
    {
     "data": {
      "text/plain": [
       "year\n",
       "1997     9995.000000\n",
       "1998     8605.000000\n",
       "1999     5995.000000\n",
       "2000     5743.333333\n",
       "2001     4957.900000\n",
       "2002     5820.444444\n",
       "2003     4878.000000\n",
       "2004     4727.615385\n",
       "2005     4426.111111\n",
       "2006     4036.875000\n",
       "2007     5136.045455\n",
       "2008     6967.437500\n",
       "2009     6166.764706\n",
       "2010     8308.473684\n",
       "2011     8913.459459\n",
       "2012    10845.140351\n",
       "2013    11939.842466\n",
       "2014    14042.936864\n",
       "2015    16647.822222\n",
       "2016    19223.558943\n",
       "2017    21356.280421\n",
       "2018    24800.844506\n",
       "2019    30289.524832\n",
       "2020    34234.794872\n",
       "Name: price, dtype: float64"
      ]
     },
     "execution_count": 21,
     "metadata": {},
     "output_type": "execute_result"
    }
   ],
   "source": [
    "df.groupby(\"year\").mean(numeric_only=True)[\"price\"]"
   ]
  },
  {
   "cell_type": "code",
   "execution_count": 22,
   "id": "f45baefe",
   "metadata": {},
   "outputs": [
    {
     "data": {
      "text/html": [
       "<div>\n",
       "<style scoped>\n",
       "    .dataframe tbody tr th:only-of-type {\n",
       "        vertical-align: middle;\n",
       "    }\n",
       "\n",
       "    .dataframe tbody tr th {\n",
       "        vertical-align: top;\n",
       "    }\n",
       "\n",
       "    .dataframe thead th {\n",
       "        text-align: right;\n",
       "    }\n",
       "</style>\n",
       "<table border=\"1\" class=\"dataframe\">\n",
       "  <thead>\n",
       "    <tr style=\"text-align: right;\">\n",
       "      <th></th>\n",
       "      <th>year</th>\n",
       "      <th>price</th>\n",
       "      <th>transmission</th>\n",
       "      <th>mileage</th>\n",
       "      <th>tax</th>\n",
       "      <th>mpg</th>\n",
       "      <th>engineSize</th>\n",
       "    </tr>\n",
       "  </thead>\n",
       "  <tbody>\n",
       "    <tr>\n",
       "      <th>6177</th>\n",
       "      <td>2019</td>\n",
       "      <td>65990</td>\n",
       "      <td>Semi-Auto</td>\n",
       "      <td>5076</td>\n",
       "      <td>150</td>\n",
       "      <td>30.4</td>\n",
       "      <td>3.0</td>\n",
       "    </tr>\n",
       "    <tr>\n",
       "      <th>5779</th>\n",
       "      <td>2020</td>\n",
       "      <td>65990</td>\n",
       "      <td>Semi-Auto</td>\n",
       "      <td>999</td>\n",
       "      <td>145</td>\n",
       "      <td>28.0</td>\n",
       "      <td>4.0</td>\n",
       "    </tr>\n",
       "    <tr>\n",
       "      <th>3191</th>\n",
       "      <td>2020</td>\n",
       "      <td>65980</td>\n",
       "      <td>Semi-Auto</td>\n",
       "      <td>3999</td>\n",
       "      <td>145</td>\n",
       "      <td>28.0</td>\n",
       "      <td>4.0</td>\n",
       "    </tr>\n",
       "    <tr>\n",
       "      <th>4727</th>\n",
       "      <td>2019</td>\n",
       "      <td>65000</td>\n",
       "      <td>Semi-Auto</td>\n",
       "      <td>3398</td>\n",
       "      <td>145</td>\n",
       "      <td>27.2</td>\n",
       "      <td>4.0</td>\n",
       "    </tr>\n",
       "    <tr>\n",
       "      <th>8814</th>\n",
       "      <td>2019</td>\n",
       "      <td>64999</td>\n",
       "      <td>Semi-Auto</td>\n",
       "      <td>119</td>\n",
       "      <td>145</td>\n",
       "      <td>40.9</td>\n",
       "      <td>3.0</td>\n",
       "    </tr>\n",
       "  </tbody>\n",
       "</table>\n",
       "</div>"
      ],
      "text/plain": [
       "      year  price transmission  mileage  tax   mpg  engineSize\n",
       "6177  2019  65990    Semi-Auto     5076  150  30.4         3.0\n",
       "5779  2020  65990    Semi-Auto      999  145  28.0         4.0\n",
       "3191  2020  65980    Semi-Auto     3999  145  28.0         4.0\n",
       "4727  2019  65000    Semi-Auto     3398  145  27.2         4.0\n",
       "8814  2019  64999    Semi-Auto      119  145  40.9         3.0"
      ]
     },
     "execution_count": 22,
     "metadata": {},
     "output_type": "execute_result"
    }
   ],
   "source": [
    "df.head()"
   ]
  },
  {
   "cell_type": "code",
   "execution_count": 23,
   "id": "aaf66104",
   "metadata": {},
   "outputs": [],
   "source": [
    "df = df.drop(\"transmission\", axis=1)"
   ]
  },
  {
   "cell_type": "code",
   "execution_count": 24,
   "id": "9c10975f",
   "metadata": {},
   "outputs": [],
   "source": [
    "y = df[\"price\"].values\n",
    "x = df.drop([\"price\"], axis=1).values\n",
    "# Price harici kolonları atar"
   ]
  },
  {
   "cell_type": "code",
   "execution_count": 25,
   "id": "c43bb82e",
   "metadata": {},
   "outputs": [
    {
     "data": {
      "text/plain": [
       "array([65990, 65990, 65980, ...,  1490,  1350,   650], dtype=int64)"
      ]
     },
     "execution_count": 25,
     "metadata": {},
     "output_type": "execute_result"
    }
   ],
   "source": [
    "y"
   ]
  },
  {
   "cell_type": "code",
   "execution_count": 26,
   "id": "dfaef0d8",
   "metadata": {},
   "outputs": [
    {
     "data": {
      "text/plain": [
       "array([[2.01900e+03, 5.07600e+03, 1.50000e+02, 3.04000e+01, 3.00000e+00],\n",
       "       [2.02000e+03, 9.99000e+02, 1.45000e+02, 2.80000e+01, 4.00000e+00],\n",
       "       [2.02000e+03, 3.99900e+03, 1.45000e+02, 2.80000e+01, 4.00000e+00],\n",
       "       ...,\n",
       "       [2.00000e+03, 8.70000e+04, 2.65000e+02, 2.72000e+01, 3.20000e+00],\n",
       "       [2.01000e+03, 1.16126e+05, 1.45000e+02, 5.43000e+01, 2.00000e+00],\n",
       "       [2.00300e+03, 1.09090e+05, 2.35000e+02, 4.00000e+01, 1.40000e+00]])"
      ]
     },
     "execution_count": 26,
     "metadata": {},
     "output_type": "execute_result"
    }
   ],
   "source": [
    "x"
   ]
  },
  {
   "cell_type": "code",
   "execution_count": 27,
   "id": "32df1144",
   "metadata": {},
   "outputs": [],
   "source": [
    "from sklearn.model_selection import train_test_split"
   ]
  },
  {
   "cell_type": "code",
   "execution_count": 28,
   "id": "0e1d803d",
   "metadata": {},
   "outputs": [],
   "source": [
    "x_train, x_test, y_train, y_test = train_test_split(x,y, test_size=0.3, random_state=10)"
   ]
  },
  {
   "cell_type": "code",
   "execution_count": 29,
   "id": "fbbd5fe3",
   "metadata": {},
   "outputs": [],
   "source": [
    "from sklearn.preprocessing import MinMaxScaler"
   ]
  },
  {
   "cell_type": "code",
   "execution_count": 30,
   "id": "1040a47c",
   "metadata": {},
   "outputs": [],
   "source": [
    "scaler = MinMaxScaler()"
   ]
  },
  {
   "cell_type": "code",
   "execution_count": 31,
   "id": "7e35b040",
   "metadata": {},
   "outputs": [],
   "source": [
    "x_train = scaler.fit_transform(x_train)"
   ]
  },
  {
   "cell_type": "code",
   "execution_count": 32,
   "id": "592c9197",
   "metadata": {},
   "outputs": [],
   "source": [
    "x_test = scaler.transform(x_test)"
   ]
  },
  {
   "cell_type": "code",
   "execution_count": 33,
   "id": "db047966",
   "metadata": {},
   "outputs": [],
   "source": [
    "import tensorflow as tf\n",
    "from tensorflow.keras.models import Sequential\n",
    "from tensorflow.keras.layers import Dense"
   ]
  },
  {
   "cell_type": "code",
   "execution_count": 34,
   "id": "a2929416",
   "metadata": {},
   "outputs": [],
   "source": [
    "model = Sequential()\n",
    "\n",
    "model.add(Dense(12,activation=\"relu\"))\n",
    "model.add(Dense(12,activation=\"relu\"))\n",
    "model.add(Dense(12,activation=\"relu\"))\n",
    "model.add(Dense(12,activation=\"relu\"))\n",
    "\n",
    "model.add(Dense(1))\n",
    "\n",
    "model.compile(optimizer=\"adam\",loss=\"mse\")"
   ]
  },
  {
   "cell_type": "code",
   "execution_count": 35,
   "id": "269e047c",
   "metadata": {},
   "outputs": [
    {
     "name": "stdout",
     "output_type": "stream",
     "text": [
      "Epoch 1/300\n",
      "37/37 [==============================] - 4s 17ms/step - loss: 672146560.0000 - val_loss: 688104256.0000\n",
      "Epoch 2/300\n",
      "37/37 [==============================] - 0s 5ms/step - loss: 672129088.0000 - val_loss: 688079744.0000\n",
      "Epoch 3/300\n",
      "37/37 [==============================] - 0s 5ms/step - loss: 672089856.0000 - val_loss: 688018112.0000\n",
      "Epoch 4/300\n",
      "37/37 [==============================] - 0s 5ms/step - loss: 671996736.0000 - val_loss: 687877248.0000\n",
      "Epoch 5/300\n",
      "37/37 [==============================] - 0s 5ms/step - loss: 671792448.0000 - val_loss: 687580480.0000\n",
      "Epoch 6/300\n",
      "37/37 [==============================] - 0s 6ms/step - loss: 671379712.0000 - val_loss: 687000640.0000\n",
      "Epoch 7/300\n",
      "37/37 [==============================] - 0s 6ms/step - loss: 670601984.0000 - val_loss: 685947328.0000\n",
      "Epoch 8/300\n",
      "37/37 [==============================] - 0s 5ms/step - loss: 669241088.0000 - val_loss: 684153408.0000\n",
      "Epoch 9/300\n",
      "37/37 [==============================] - 0s 5ms/step - loss: 666992128.0000 - val_loss: 681268288.0000\n",
      "Epoch 10/300\n",
      "37/37 [==============================] - 0s 5ms/step - loss: 663458688.0000 - val_loss: 676846656.0000\n",
      "Epoch 11/300\n",
      "37/37 [==============================] - 0s 6ms/step - loss: 658165760.0000 - val_loss: 670342720.0000\n",
      "Epoch 12/300\n",
      "37/37 [==============================] - 0s 6ms/step - loss: 650525184.0000 - val_loss: 661154880.0000\n",
      "Epoch 13/300\n",
      "37/37 [==============================] - 0s 5ms/step - loss: 639912896.0000 - val_loss: 648555712.0000\n",
      "Epoch 14/300\n",
      "37/37 [==============================] - 0s 6ms/step - loss: 625649664.0000 - val_loss: 631880000.0000\n",
      "Epoch 15/300\n",
      "37/37 [==============================] - 0s 6ms/step - loss: 607018112.0000 - val_loss: 610422912.0000\n",
      "Epoch 16/300\n",
      "37/37 [==============================] - 0s 6ms/step - loss: 583340864.0000 - val_loss: 583710976.0000\n",
      "Epoch 17/300\n",
      "37/37 [==============================] - 0s 5ms/step - loss: 554259072.0000 - val_loss: 551142464.0000\n",
      "Epoch 18/300\n",
      "37/37 [==============================] - 0s 6ms/step - loss: 519465344.0000 - val_loss: 512806944.0000\n",
      "Epoch 19/300\n",
      "37/37 [==============================] - 0s 5ms/step - loss: 479156480.0000 - val_loss: 469065952.0000\n",
      "Epoch 20/300\n",
      "37/37 [==============================] - 0s 6ms/step - loss: 433865120.0000 - val_loss: 420828320.0000\n",
      "Epoch 21/300\n",
      "37/37 [==============================] - 0s 5ms/step - loss: 384847008.0000 - val_loss: 369404800.0000\n",
      "Epoch 22/300\n",
      "37/37 [==============================] - 0s 6ms/step - loss: 333689504.0000 - val_loss: 317120896.0000\n",
      "Epoch 23/300\n",
      "37/37 [==============================] - 0s 5ms/step - loss: 282920064.0000 - val_loss: 266243424.0000\n",
      "Epoch 24/300\n",
      "37/37 [==============================] - 0s 6ms/step - loss: 235002224.0000 - val_loss: 219637136.0000\n",
      "Epoch 25/300\n",
      "37/37 [==============================] - 0s 5ms/step - loss: 192424048.0000 - val_loss: 179755488.0000\n",
      "Epoch 26/300\n",
      "37/37 [==============================] - 0s 5ms/step - loss: 157321808.0000 - val_loss: 147442928.0000\n",
      "Epoch 27/300\n",
      "37/37 [==============================] - 0s 5ms/step - loss: 130505480.0000 - val_loss: 124316960.0000\n",
      "Epoch 28/300\n",
      "37/37 [==============================] - 0s 5ms/step - loss: 112049712.0000 - val_loss: 108850400.0000\n",
      "Epoch 29/300\n",
      "37/37 [==============================] - 0s 6ms/step - loss: 100456264.0000 - val_loss: 99435104.0000\n",
      "Epoch 30/300\n",
      "37/37 [==============================] - 0s 6ms/step - loss: 93769424.0000 - val_loss: 94137400.0000\n",
      "Epoch 31/300\n",
      "37/37 [==============================] - 0s 5ms/step - loss: 90199856.0000 - val_loss: 91296928.0000\n",
      "Epoch 32/300\n",
      "37/37 [==============================] - 0s 5ms/step - loss: 88332496.0000 - val_loss: 89650896.0000\n",
      "Epoch 33/300\n",
      "37/37 [==============================] - 0s 6ms/step - loss: 87232192.0000 - val_loss: 88708720.0000\n",
      "Epoch 34/300\n",
      "37/37 [==============================] - 0s 6ms/step - loss: 86554392.0000 - val_loss: 88001440.0000\n",
      "Epoch 35/300\n",
      "37/37 [==============================] - 0s 6ms/step - loss: 86027056.0000 - val_loss: 87435776.0000\n",
      "Epoch 36/300\n",
      "37/37 [==============================] - 0s 5ms/step - loss: 85569848.0000 - val_loss: 86971312.0000\n",
      "Epoch 37/300\n",
      "37/37 [==============================] - 0s 6ms/step - loss: 85145520.0000 - val_loss: 86556320.0000\n",
      "Epoch 38/300\n",
      "37/37 [==============================] - 0s 6ms/step - loss: 84732688.0000 - val_loss: 86128832.0000\n",
      "Epoch 39/300\n",
      "37/37 [==============================] - 0s 6ms/step - loss: 84324832.0000 - val_loss: 85717656.0000\n",
      "Epoch 40/300\n",
      "37/37 [==============================] - 0s 6ms/step - loss: 83924792.0000 - val_loss: 85307288.0000\n",
      "Epoch 41/300\n",
      "37/37 [==============================] - 0s 5ms/step - loss: 83526384.0000 - val_loss: 84915744.0000\n",
      "Epoch 42/300\n",
      "37/37 [==============================] - 0s 7ms/step - loss: 83132680.0000 - val_loss: 84528056.0000\n",
      "Epoch 43/300\n",
      "37/37 [==============================] - 0s 5ms/step - loss: 82742328.0000 - val_loss: 84128280.0000\n",
      "Epoch 44/300\n",
      "37/37 [==============================] - 0s 6ms/step - loss: 82353856.0000 - val_loss: 83771712.0000\n",
      "Epoch 45/300\n",
      "37/37 [==============================] - 0s 5ms/step - loss: 81968584.0000 - val_loss: 83363328.0000\n",
      "Epoch 46/300\n",
      "37/37 [==============================] - 0s 5ms/step - loss: 81587536.0000 - val_loss: 82976160.0000\n",
      "Epoch 47/300\n",
      "37/37 [==============================] - 0s 6ms/step - loss: 81196152.0000 - val_loss: 82602808.0000\n",
      "Epoch 48/300\n",
      "37/37 [==============================] - 0s 6ms/step - loss: 80810272.0000 - val_loss: 82237584.0000\n",
      "Epoch 49/300\n",
      "37/37 [==============================] - 0s 6ms/step - loss: 80426352.0000 - val_loss: 81845264.0000\n",
      "Epoch 50/300\n",
      "37/37 [==============================] - 0s 6ms/step - loss: 80038864.0000 - val_loss: 81445776.0000\n",
      "Epoch 51/300\n",
      "37/37 [==============================] - 0s 6ms/step - loss: 79652648.0000 - val_loss: 81077872.0000\n",
      "Epoch 52/300\n",
      "37/37 [==============================] - 0s 6ms/step - loss: 79266784.0000 - val_loss: 80692384.0000\n",
      "Epoch 53/300\n",
      "37/37 [==============================] - 0s 6ms/step - loss: 78880112.0000 - val_loss: 80299544.0000\n",
      "Epoch 54/300\n",
      "37/37 [==============================] - 0s 6ms/step - loss: 78493848.0000 - val_loss: 79919704.0000\n",
      "Epoch 55/300\n",
      "37/37 [==============================] - 0s 6ms/step - loss: 78112656.0000 - val_loss: 79539752.0000\n",
      "Epoch 56/300\n",
      "37/37 [==============================] - 0s 6ms/step - loss: 77717376.0000 - val_loss: 79153768.0000\n",
      "Epoch 57/300\n",
      "37/37 [==============================] - 0s 6ms/step - loss: 77325464.0000 - val_loss: 78763640.0000\n",
      "Epoch 58/300\n",
      "37/37 [==============================] - 0s 6ms/step - loss: 76934768.0000 - val_loss: 78370248.0000\n",
      "Epoch 59/300\n",
      "37/37 [==============================] - 0s 6ms/step - loss: 76547608.0000 - val_loss: 77984592.0000\n",
      "Epoch 60/300\n",
      "37/37 [==============================] - 0s 5ms/step - loss: 76143744.0000 - val_loss: 77602544.0000\n",
      "Epoch 61/300\n",
      "37/37 [==============================] - 0s 6ms/step - loss: 75751680.0000 - val_loss: 77207624.0000\n",
      "Epoch 62/300\n",
      "37/37 [==============================] - 0s 8ms/step - loss: 75354088.0000 - val_loss: 76805704.0000\n",
      "Epoch 63/300\n",
      "37/37 [==============================] - 0s 6ms/step - loss: 74951616.0000 - val_loss: 76425592.0000\n",
      "Epoch 64/300\n",
      "37/37 [==============================] - 0s 6ms/step - loss: 74552584.0000 - val_loss: 76018032.0000\n",
      "Epoch 65/300\n",
      "37/37 [==============================] - 0s 6ms/step - loss: 74145992.0000 - val_loss: 75608144.0000\n",
      "Epoch 66/300\n",
      "37/37 [==============================] - 0s 6ms/step - loss: 73729600.0000 - val_loss: 75160560.0000\n",
      "Epoch 67/300\n",
      "37/37 [==============================] - 0s 6ms/step - loss: 73255968.0000 - val_loss: 74696288.0000\n",
      "Epoch 68/300\n",
      "37/37 [==============================] - 0s 6ms/step - loss: 72756872.0000 - val_loss: 74195904.0000\n",
      "Epoch 69/300\n",
      "37/37 [==============================] - 0s 6ms/step - loss: 72223760.0000 - val_loss: 73646960.0000\n",
      "Epoch 70/300\n",
      "37/37 [==============================] - 0s 6ms/step - loss: 71674224.0000 - val_loss: 73102848.0000\n",
      "Epoch 71/300\n",
      "37/37 [==============================] - 0s 6ms/step - loss: 71117528.0000 - val_loss: 72563336.0000\n",
      "Epoch 72/300\n",
      "37/37 [==============================] - 0s 6ms/step - loss: 70540536.0000 - val_loss: 71959832.0000\n",
      "Epoch 73/300\n",
      "37/37 [==============================] - 0s 6ms/step - loss: 69945120.0000 - val_loss: 71362104.0000\n",
      "Epoch 74/300\n",
      "37/37 [==============================] - 0s 6ms/step - loss: 69339176.0000 - val_loss: 70767744.0000\n",
      "Epoch 75/300\n",
      "37/37 [==============================] - 0s 6ms/step - loss: 68723736.0000 - val_loss: 70164000.0000\n",
      "Epoch 76/300\n",
      "37/37 [==============================] - 0s 6ms/step - loss: 68092248.0000 - val_loss: 69523416.0000\n",
      "Epoch 77/300\n",
      "37/37 [==============================] - 0s 6ms/step - loss: 67449584.0000 - val_loss: 68882056.0000\n",
      "Epoch 78/300\n",
      "37/37 [==============================] - 0s 5ms/step - loss: 66806792.0000 - val_loss: 68228528.0000\n",
      "Epoch 79/300\n",
      "37/37 [==============================] - 0s 6ms/step - loss: 66139276.0000 - val_loss: 67580032.0000\n",
      "Epoch 80/300\n",
      "37/37 [==============================] - 0s 6ms/step - loss: 65466736.0000 - val_loss: 66922108.0000\n",
      "Epoch 81/300\n",
      "37/37 [==============================] - 0s 6ms/step - loss: 64787280.0000 - val_loss: 66216496.0000\n",
      "Epoch 82/300\n",
      "37/37 [==============================] - 0s 5ms/step - loss: 64092912.0000 - val_loss: 65536252.0000\n",
      "Epoch 83/300\n",
      "37/37 [==============================] - 0s 5ms/step - loss: 63385764.0000 - val_loss: 64842312.0000\n",
      "Epoch 84/300\n",
      "37/37 [==============================] - 0s 5ms/step - loss: 62675308.0000 - val_loss: 64129052.0000\n",
      "Epoch 85/300\n",
      "37/37 [==============================] - 0s 6ms/step - loss: 61963840.0000 - val_loss: 63418496.0000\n",
      "Epoch 86/300\n",
      "37/37 [==============================] - 0s 5ms/step - loss: 61239960.0000 - val_loss: 62701660.0000\n",
      "Epoch 87/300\n",
      "37/37 [==============================] - 0s 6ms/step - loss: 60524032.0000 - val_loss: 61953668.0000\n",
      "Epoch 88/300\n",
      "37/37 [==============================] - 0s 7ms/step - loss: 59758288.0000 - val_loss: 61205468.0000\n",
      "Epoch 89/300\n",
      "37/37 [==============================] - 0s 6ms/step - loss: 59014620.0000 - val_loss: 60479636.0000\n",
      "Epoch 90/300\n",
      "37/37 [==============================] - 0s 6ms/step - loss: 58257424.0000 - val_loss: 59705300.0000\n",
      "Epoch 91/300\n",
      "37/37 [==============================] - 0s 5ms/step - loss: 57509644.0000 - val_loss: 58947984.0000\n",
      "Epoch 92/300\n",
      "37/37 [==============================] - 0s 6ms/step - loss: 56722124.0000 - val_loss: 58188980.0000\n",
      "Epoch 93/300\n",
      "37/37 [==============================] - 0s 6ms/step - loss: 55957988.0000 - val_loss: 57399064.0000\n",
      "Epoch 94/300\n",
      "37/37 [==============================] - 0s 7ms/step - loss: 55179840.0000 - val_loss: 56649180.0000\n",
      "Epoch 95/300\n",
      "37/37 [==============================] - 0s 6ms/step - loss: 54412100.0000 - val_loss: 55859896.0000\n",
      "Epoch 96/300\n",
      "37/37 [==============================] - 0s 6ms/step - loss: 53652096.0000 - val_loss: 55073192.0000\n",
      "Epoch 97/300\n",
      "37/37 [==============================] - 0s 5ms/step - loss: 52847372.0000 - val_loss: 54333388.0000\n",
      "Epoch 98/300\n",
      "37/37 [==============================] - 0s 6ms/step - loss: 52076196.0000 - val_loss: 53541212.0000\n",
      "Epoch 99/300\n",
      "37/37 [==============================] - 0s 6ms/step - loss: 51300160.0000 - val_loss: 52739172.0000\n",
      "Epoch 100/300\n",
      "37/37 [==============================] - 0s 5ms/step - loss: 50524812.0000 - val_loss: 51971852.0000\n",
      "Epoch 101/300\n",
      "37/37 [==============================] - 0s 5ms/step - loss: 49759884.0000 - val_loss: 51185980.0000\n",
      "Epoch 102/300\n",
      "37/37 [==============================] - 0s 6ms/step - loss: 48996972.0000 - val_loss: 50426332.0000\n",
      "Epoch 103/300\n",
      "37/37 [==============================] - 0s 6ms/step - loss: 48231800.0000 - val_loss: 49656480.0000\n",
      "Epoch 104/300\n",
      "37/37 [==============================] - 0s 6ms/step - loss: 47476620.0000 - val_loss: 48879900.0000\n",
      "Epoch 105/300\n",
      "37/37 [==============================] - 0s 6ms/step - loss: 46727924.0000 - val_loss: 48110520.0000\n",
      "Epoch 106/300\n",
      "37/37 [==============================] - 0s 6ms/step - loss: 45995064.0000 - val_loss: 47365804.0000\n",
      "Epoch 107/300\n",
      "37/37 [==============================] - 0s 6ms/step - loss: 45263088.0000 - val_loss: 46665284.0000\n",
      "Epoch 108/300\n",
      "37/37 [==============================] - 0s 7ms/step - loss: 44567152.0000 - val_loss: 45902128.0000\n",
      "Epoch 109/300\n",
      "37/37 [==============================] - 0s 5ms/step - loss: 43857192.0000 - val_loss: 45186844.0000\n",
      "Epoch 110/300\n",
      "37/37 [==============================] - 0s 5ms/step - loss: 43174244.0000 - val_loss: 44489308.0000\n",
      "Epoch 111/300\n",
      "37/37 [==============================] - 0s 5ms/step - loss: 42510588.0000 - val_loss: 43828668.0000\n",
      "Epoch 112/300\n",
      "37/37 [==============================] - 0s 5ms/step - loss: 41886584.0000 - val_loss: 43134208.0000\n",
      "Epoch 113/300\n",
      "37/37 [==============================] - 0s 6ms/step - loss: 41246776.0000 - val_loss: 42478356.0000\n",
      "Epoch 114/300\n",
      "37/37 [==============================] - 0s 6ms/step - loss: 40618876.0000 - val_loss: 41860032.0000\n",
      "Epoch 115/300\n",
      "37/37 [==============================] - 0s 6ms/step - loss: 40037376.0000 - val_loss: 41226140.0000\n",
      "Epoch 116/300\n",
      "37/37 [==============================] - 0s 6ms/step - loss: 39440120.0000 - val_loss: 40645860.0000\n",
      "Epoch 117/300\n",
      "37/37 [==============================] - 0s 6ms/step - loss: 38899660.0000 - val_loss: 40063956.0000\n",
      "Epoch 118/300\n",
      "37/37 [==============================] - 0s 6ms/step - loss: 38388464.0000 - val_loss: 39501860.0000\n",
      "Epoch 119/300\n",
      "37/37 [==============================] - 0s 5ms/step - loss: 37854544.0000 - val_loss: 39003756.0000\n",
      "Epoch 120/300\n",
      "37/37 [==============================] - 0s 5ms/step - loss: 37416696.0000 - val_loss: 38460108.0000\n",
      "Epoch 121/300\n",
      "37/37 [==============================] - 0s 5ms/step - loss: 36908988.0000 - val_loss: 37972464.0000\n",
      "Epoch 122/300\n",
      "37/37 [==============================] - 0s 7ms/step - loss: 36478320.0000 - val_loss: 37504976.0000\n",
      "Epoch 123/300\n",
      "37/37 [==============================] - 0s 5ms/step - loss: 36032152.0000 - val_loss: 37041808.0000\n",
      "Epoch 124/300\n",
      "37/37 [==============================] - 0s 5ms/step - loss: 35617628.0000 - val_loss: 36607788.0000\n",
      "Epoch 125/300\n",
      "37/37 [==============================] - 0s 5ms/step - loss: 35238480.0000 - val_loss: 36210504.0000\n",
      "Epoch 126/300\n",
      "37/37 [==============================] - 0s 5ms/step - loss: 34842080.0000 - val_loss: 35774720.0000\n",
      "Epoch 127/300\n",
      "37/37 [==============================] - 0s 5ms/step - loss: 34469108.0000 - val_loss: 35374232.0000\n",
      "Epoch 128/300\n",
      "37/37 [==============================] - 0s 5ms/step - loss: 34107272.0000 - val_loss: 34971592.0000\n",
      "Epoch 129/300\n",
      "37/37 [==============================] - 0s 5ms/step - loss: 33740624.0000 - val_loss: 34591952.0000\n",
      "Epoch 130/300\n",
      "37/37 [==============================] - 0s 5ms/step - loss: 33361660.0000 - val_loss: 34241156.0000\n",
      "Epoch 131/300\n",
      "37/37 [==============================] - 0s 5ms/step - loss: 33014298.0000 - val_loss: 33831140.0000\n",
      "Epoch 132/300\n",
      "37/37 [==============================] - 0s 6ms/step - loss: 32668222.0000 - val_loss: 33470334.0000\n",
      "Epoch 133/300\n",
      "37/37 [==============================] - 0s 7ms/step - loss: 32322182.0000 - val_loss: 33129842.0000\n",
      "Epoch 134/300\n",
      "37/37 [==============================] - 0s 5ms/step - loss: 32000562.0000 - val_loss: 32780648.0000\n",
      "Epoch 135/300\n",
      "37/37 [==============================] - 0s 5ms/step - loss: 31672762.0000 - val_loss: 32478774.0000\n",
      "Epoch 136/300\n",
      "37/37 [==============================] - 0s 5ms/step - loss: 31327304.0000 - val_loss: 32092674.0000\n",
      "Epoch 137/300\n",
      "37/37 [==============================] - 0s 6ms/step - loss: 30992490.0000 - val_loss: 31750134.0000\n",
      "Epoch 138/300\n",
      "37/37 [==============================] - 0s 5ms/step - loss: 30679896.0000 - val_loss: 31425666.0000\n",
      "Epoch 139/300\n",
      "37/37 [==============================] - 0s 5ms/step - loss: 30352036.0000 - val_loss: 31117900.0000\n",
      "Epoch 140/300\n",
      "37/37 [==============================] - 0s 5ms/step - loss: 30043888.0000 - val_loss: 30784032.0000\n",
      "Epoch 141/300\n",
      "37/37 [==============================] - 0s 5ms/step - loss: 29704292.0000 - val_loss: 30454096.0000\n",
      "Epoch 142/300\n",
      "37/37 [==============================] - 0s 6ms/step - loss: 29368018.0000 - val_loss: 30114574.0000\n",
      "Epoch 143/300\n"
     ]
    },
    {
     "name": "stdout",
     "output_type": "stream",
     "text": [
      "37/37 [==============================] - 0s 5ms/step - loss: 29062726.0000 - val_loss: 29839210.0000\n",
      "Epoch 144/300\n",
      "37/37 [==============================] - 0s 5ms/step - loss: 28714968.0000 - val_loss: 29475140.0000\n",
      "Epoch 145/300\n",
      "37/37 [==============================] - 0s 5ms/step - loss: 28425614.0000 - val_loss: 29180196.0000\n",
      "Epoch 146/300\n",
      "37/37 [==============================] - 0s 5ms/step - loss: 28077322.0000 - val_loss: 28855568.0000\n",
      "Epoch 147/300\n",
      "37/37 [==============================] - 0s 7ms/step - loss: 27771264.0000 - val_loss: 28550822.0000\n",
      "Epoch 148/300\n",
      "37/37 [==============================] - 0s 5ms/step - loss: 27461144.0000 - val_loss: 28247182.0000\n",
      "Epoch 149/300\n",
      "37/37 [==============================] - 0s 5ms/step - loss: 27159860.0000 - val_loss: 27970562.0000\n",
      "Epoch 150/300\n",
      "37/37 [==============================] - 0s 5ms/step - loss: 26888044.0000 - val_loss: 27689608.0000\n",
      "Epoch 151/300\n",
      "37/37 [==============================] - 0s 5ms/step - loss: 26602608.0000 - val_loss: 27424744.0000\n",
      "Epoch 152/300\n",
      "37/37 [==============================] - 0s 5ms/step - loss: 26322494.0000 - val_loss: 27188834.0000\n",
      "Epoch 153/300\n",
      "37/37 [==============================] - 0s 5ms/step - loss: 26042180.0000 - val_loss: 26956320.0000\n",
      "Epoch 154/300\n",
      "37/37 [==============================] - 0s 5ms/step - loss: 25842192.0000 - val_loss: 26683842.0000\n",
      "Epoch 155/300\n",
      "37/37 [==============================] - 0s 5ms/step - loss: 25585056.0000 - val_loss: 26463344.0000\n",
      "Epoch 156/300\n",
      "37/37 [==============================] - 0s 5ms/step - loss: 25343726.0000 - val_loss: 26324152.0000\n",
      "Epoch 157/300\n",
      "37/37 [==============================] - 0s 5ms/step - loss: 25143044.0000 - val_loss: 26089788.0000\n",
      "Epoch 158/300\n",
      "37/37 [==============================] - 0s 5ms/step - loss: 24956978.0000 - val_loss: 25903638.0000\n",
      "Epoch 159/300\n",
      "37/37 [==============================] - 0s 6ms/step - loss: 24780846.0000 - val_loss: 25803916.0000\n",
      "Epoch 160/300\n",
      "37/37 [==============================] - 0s 5ms/step - loss: 24622814.0000 - val_loss: 25654312.0000\n",
      "Epoch 161/300\n",
      "37/37 [==============================] - 0s 5ms/step - loss: 24470934.0000 - val_loss: 25465878.0000\n",
      "Epoch 162/300\n",
      "37/37 [==============================] - 0s 5ms/step - loss: 24329700.0000 - val_loss: 25312662.0000\n",
      "Epoch 163/300\n",
      "37/37 [==============================] - 0s 6ms/step - loss: 24202956.0000 - val_loss: 25191680.0000\n",
      "Epoch 164/300\n",
      "37/37 [==============================] - 0s 5ms/step - loss: 24048712.0000 - val_loss: 25085582.0000\n",
      "Epoch 165/300\n",
      "37/37 [==============================] - 0s 5ms/step - loss: 23944418.0000 - val_loss: 25005222.0000\n",
      "Epoch 166/300\n",
      "37/37 [==============================] - 0s 6ms/step - loss: 23818788.0000 - val_loss: 24986900.0000\n",
      "Epoch 167/300\n",
      "37/37 [==============================] - 0s 5ms/step - loss: 23742380.0000 - val_loss: 24807158.0000\n",
      "Epoch 168/300\n",
      "37/37 [==============================] - 0s 5ms/step - loss: 23635466.0000 - val_loss: 24722576.0000\n",
      "Epoch 169/300\n",
      "37/37 [==============================] - 0s 6ms/step - loss: 23531458.0000 - val_loss: 24652610.0000\n",
      "Epoch 170/300\n",
      "37/37 [==============================] - 0s 5ms/step - loss: 23443136.0000 - val_loss: 24535996.0000\n",
      "Epoch 171/300\n",
      "37/37 [==============================] - 0s 5ms/step - loss: 23348242.0000 - val_loss: 24474314.0000\n",
      "Epoch 172/300\n",
      "37/37 [==============================] - 0s 5ms/step - loss: 23277498.0000 - val_loss: 24387332.0000\n",
      "Epoch 173/300\n",
      "37/37 [==============================] - 0s 8ms/step - loss: 23208250.0000 - val_loss: 24332944.0000\n",
      "Epoch 174/300\n",
      "37/37 [==============================] - 0s 5ms/step - loss: 23147736.0000 - val_loss: 24308330.0000\n",
      "Epoch 175/300\n",
      "37/37 [==============================] - 0s 5ms/step - loss: 23105944.0000 - val_loss: 24278700.0000\n",
      "Epoch 176/300\n",
      "37/37 [==============================] - 0s 5ms/step - loss: 23025264.0000 - val_loss: 24133378.0000\n",
      "Epoch 177/300\n",
      "37/37 [==============================] - 0s 6ms/step - loss: 22946384.0000 - val_loss: 24072302.0000\n",
      "Epoch 178/300\n",
      "37/37 [==============================] - 0s 5ms/step - loss: 22919076.0000 - val_loss: 24048498.0000\n",
      "Epoch 179/300\n",
      "37/37 [==============================] - 0s 5ms/step - loss: 22828676.0000 - val_loss: 23969672.0000\n",
      "Epoch 180/300\n",
      "37/37 [==============================] - 0s 5ms/step - loss: 22744526.0000 - val_loss: 23954224.0000\n",
      "Epoch 181/300\n",
      "37/37 [==============================] - 0s 5ms/step - loss: 22711674.0000 - val_loss: 23854762.0000\n",
      "Epoch 182/300\n",
      "37/37 [==============================] - 0s 5ms/step - loss: 22635826.0000 - val_loss: 23887132.0000\n",
      "Epoch 183/300\n",
      "37/37 [==============================] - 0s 5ms/step - loss: 22613764.0000 - val_loss: 23771852.0000\n",
      "Epoch 184/300\n",
      "37/37 [==============================] - 0s 5ms/step - loss: 22572024.0000 - val_loss: 23774004.0000\n",
      "Epoch 185/300\n",
      "37/37 [==============================] - 0s 5ms/step - loss: 22579788.0000 - val_loss: 23670984.0000\n",
      "Epoch 186/300\n",
      "37/37 [==============================] - 0s 5ms/step - loss: 22440710.0000 - val_loss: 23613192.0000\n",
      "Epoch 187/300\n",
      "37/37 [==============================] - 0s 5ms/step - loss: 22405874.0000 - val_loss: 23577814.0000\n",
      "Epoch 188/300\n",
      "37/37 [==============================] - 0s 5ms/step - loss: 22351762.0000 - val_loss: 23527900.0000\n",
      "Epoch 189/300\n",
      "37/37 [==============================] - 0s 5ms/step - loss: 22307046.0000 - val_loss: 23488326.0000\n",
      "Epoch 190/300\n",
      "37/37 [==============================] - 0s 5ms/step - loss: 22261726.0000 - val_loss: 23448172.0000\n",
      "Epoch 191/300\n",
      "37/37 [==============================] - 0s 6ms/step - loss: 22230572.0000 - val_loss: 23392868.0000\n",
      "Epoch 192/300\n",
      "37/37 [==============================] - 0s 6ms/step - loss: 22173874.0000 - val_loss: 23363348.0000\n",
      "Epoch 193/300\n",
      "37/37 [==============================] - 0s 6ms/step - loss: 22130408.0000 - val_loss: 23357494.0000\n",
      "Epoch 194/300\n",
      "37/37 [==============================] - 0s 6ms/step - loss: 22102740.0000 - val_loss: 23286060.0000\n",
      "Epoch 195/300\n",
      "37/37 [==============================] - 0s 6ms/step - loss: 22075662.0000 - val_loss: 23278042.0000\n",
      "Epoch 196/300\n",
      "37/37 [==============================] - 0s 6ms/step - loss: 22049136.0000 - val_loss: 23197694.0000\n",
      "Epoch 197/300\n",
      "37/37 [==============================] - 0s 6ms/step - loss: 21975754.0000 - val_loss: 23179570.0000\n",
      "Epoch 198/300\n",
      "37/37 [==============================] - 0s 6ms/step - loss: 21928224.0000 - val_loss: 23134402.0000\n",
      "Epoch 199/300\n",
      "37/37 [==============================] - 0s 5ms/step - loss: 21904780.0000 - val_loss: 23100546.0000\n",
      "Epoch 200/300\n",
      "37/37 [==============================] - 0s 5ms/step - loss: 21864946.0000 - val_loss: 23048638.0000\n",
      "Epoch 201/300\n",
      "37/37 [==============================] - 0s 6ms/step - loss: 21804262.0000 - val_loss: 23100284.0000\n",
      "Epoch 202/300\n",
      "37/37 [==============================] - 0s 6ms/step - loss: 21778926.0000 - val_loss: 22977220.0000\n",
      "Epoch 203/300\n",
      "37/37 [==============================] - 0s 6ms/step - loss: 21734726.0000 - val_loss: 22945482.0000\n",
      "Epoch 204/300\n",
      "37/37 [==============================] - 0s 6ms/step - loss: 21714954.0000 - val_loss: 22908802.0000\n",
      "Epoch 205/300\n",
      "37/37 [==============================] - 0s 6ms/step - loss: 21693058.0000 - val_loss: 22877458.0000\n",
      "Epoch 206/300\n",
      "37/37 [==============================] - 0s 6ms/step - loss: 21644768.0000 - val_loss: 22849954.0000\n",
      "Epoch 207/300\n",
      "37/37 [==============================] - 0s 7ms/step - loss: 21604710.0000 - val_loss: 22825584.0000\n",
      "Epoch 208/300\n",
      "37/37 [==============================] - 0s 6ms/step - loss: 21596064.0000 - val_loss: 22790662.0000\n",
      "Epoch 209/300\n",
      "37/37 [==============================] - 0s 6ms/step - loss: 21547090.0000 - val_loss: 22754114.0000\n",
      "Epoch 210/300\n",
      "37/37 [==============================] - 0s 6ms/step - loss: 21504272.0000 - val_loss: 22721768.0000\n",
      "Epoch 211/300\n",
      "37/37 [==============================] - 0s 6ms/step - loss: 21472362.0000 - val_loss: 22708166.0000\n",
      "Epoch 212/300\n",
      "37/37 [==============================] - 0s 5ms/step - loss: 21458336.0000 - val_loss: 22670854.0000\n",
      "Epoch 213/300\n",
      "37/37 [==============================] - 0s 5ms/step - loss: 21418210.0000 - val_loss: 22672752.0000\n",
      "Epoch 214/300\n",
      "37/37 [==============================] - 0s 6ms/step - loss: 21397818.0000 - val_loss: 22618426.0000\n",
      "Epoch 215/300\n",
      "37/37 [==============================] - 0s 6ms/step - loss: 21380180.0000 - val_loss: 22579320.0000\n",
      "Epoch 216/300\n",
      "37/37 [==============================] - 0s 6ms/step - loss: 21338448.0000 - val_loss: 22563926.0000\n",
      "Epoch 217/300\n",
      "37/37 [==============================] - 0s 5ms/step - loss: 21331882.0000 - val_loss: 22577580.0000\n",
      "Epoch 218/300\n",
      "37/37 [==============================] - 0s 6ms/step - loss: 21293688.0000 - val_loss: 22525094.0000\n",
      "Epoch 219/300\n",
      "37/37 [==============================] - 0s 6ms/step - loss: 21263562.0000 - val_loss: 22496388.0000\n",
      "Epoch 220/300\n",
      "37/37 [==============================] - 0s 6ms/step - loss: 21227466.0000 - val_loss: 22482414.0000\n",
      "Epoch 221/300\n",
      "37/37 [==============================] - 0s 6ms/step - loss: 21200484.0000 - val_loss: 22429030.0000\n",
      "Epoch 222/300\n",
      "37/37 [==============================] - 0s 5ms/step - loss: 21198960.0000 - val_loss: 22454714.0000\n",
      "Epoch 223/300\n",
      "37/37 [==============================] - 0s 5ms/step - loss: 21160774.0000 - val_loss: 22390678.0000\n",
      "Epoch 224/300\n",
      "37/37 [==============================] - 0s 5ms/step - loss: 21141572.0000 - val_loss: 22395190.0000\n",
      "Epoch 225/300\n",
      "37/37 [==============================] - 0s 6ms/step - loss: 21102482.0000 - val_loss: 22348724.0000\n",
      "Epoch 226/300\n",
      "37/37 [==============================] - 0s 6ms/step - loss: 21080466.0000 - val_loss: 22340598.0000\n",
      "Epoch 227/300\n",
      "37/37 [==============================] - 0s 5ms/step - loss: 21059230.0000 - val_loss: 22307256.0000\n",
      "Epoch 228/300\n",
      "37/37 [==============================] - 0s 6ms/step - loss: 21085396.0000 - val_loss: 22279002.0000\n",
      "Epoch 229/300\n",
      "37/37 [==============================] - 0s 5ms/step - loss: 21007010.0000 - val_loss: 22277328.0000\n",
      "Epoch 230/300\n",
      "37/37 [==============================] - 0s 6ms/step - loss: 20993050.0000 - val_loss: 22232950.0000\n",
      "Epoch 231/300\n",
      "37/37 [==============================] - 0s 5ms/step - loss: 20984170.0000 - val_loss: 22222826.0000\n",
      "Epoch 232/300\n",
      "37/37 [==============================] - 0s 5ms/step - loss: 20941546.0000 - val_loss: 22230290.0000\n",
      "Epoch 233/300\n",
      "37/37 [==============================] - 0s 5ms/step - loss: 20925340.0000 - val_loss: 22230168.0000\n",
      "Epoch 234/300\n",
      "37/37 [==============================] - 0s 5ms/step - loss: 20965610.0000 - val_loss: 22159506.0000\n",
      "Epoch 235/300\n",
      "37/37 [==============================] - 0s 6ms/step - loss: 20902308.0000 - val_loss: 22141714.0000\n",
      "Epoch 236/300\n",
      "37/37 [==============================] - 0s 6ms/step - loss: 20860356.0000 - val_loss: 22123746.0000\n",
      "Epoch 237/300\n",
      "37/37 [==============================] - 0s 5ms/step - loss: 20834558.0000 - val_loss: 22106724.0000\n",
      "Epoch 238/300\n",
      "37/37 [==============================] - 0s 6ms/step - loss: 20822186.0000 - val_loss: 22089112.0000\n",
      "Epoch 239/300\n",
      "37/37 [==============================] - 0s 5ms/step - loss: 20808258.0000 - val_loss: 22072196.0000\n",
      "Epoch 240/300\n",
      "37/37 [==============================] - 0s 6ms/step - loss: 20772522.0000 - val_loss: 22054314.0000\n",
      "Epoch 241/300\n",
      "37/37 [==============================] - 0s 5ms/step - loss: 20785576.0000 - val_loss: 22174104.0000\n",
      "Epoch 242/300\n",
      "37/37 [==============================] - 0s 5ms/step - loss: 20764814.0000 - val_loss: 22023786.0000\n",
      "Epoch 243/300\n",
      "37/37 [==============================] - 0s 6ms/step - loss: 20725922.0000 - val_loss: 22019480.0000\n",
      "Epoch 244/300\n",
      "37/37 [==============================] - 0s 5ms/step - loss: 20709926.0000 - val_loss: 22016068.0000\n",
      "Epoch 245/300\n",
      "37/37 [==============================] - 0s 6ms/step - loss: 20697708.0000 - val_loss: 21992456.0000\n",
      "Epoch 246/300\n",
      "37/37 [==============================] - 0s 5ms/step - loss: 20662678.0000 - val_loss: 21976486.0000\n",
      "Epoch 247/300\n",
      "37/37 [==============================] - 0s 6ms/step - loss: 20652318.0000 - val_loss: 21976400.0000\n",
      "Epoch 248/300\n",
      "37/37 [==============================] - 0s 5ms/step - loss: 20628360.0000 - val_loss: 21945362.0000\n",
      "Epoch 249/300\n",
      "37/37 [==============================] - 0s 6ms/step - loss: 20638090.0000 - val_loss: 21941998.0000\n",
      "Epoch 250/300\n",
      "37/37 [==============================] - 0s 6ms/step - loss: 20593210.0000 - val_loss: 21928112.0000\n",
      "Epoch 251/300\n",
      "37/37 [==============================] - 0s 5ms/step - loss: 20596448.0000 - val_loss: 21984432.0000\n",
      "Epoch 252/300\n",
      "37/37 [==============================] - 0s 5ms/step - loss: 20583700.0000 - val_loss: 21926304.0000\n",
      "Epoch 253/300\n",
      "37/37 [==============================] - 0s 5ms/step - loss: 20551116.0000 - val_loss: 21932580.0000\n",
      "Epoch 254/300\n",
      "37/37 [==============================] - 0s 6ms/step - loss: 20564256.0000 - val_loss: 21882488.0000\n",
      "Epoch 255/300\n",
      "37/37 [==============================] - 0s 6ms/step - loss: 20520340.0000 - val_loss: 21877464.0000\n",
      "Epoch 256/300\n",
      "37/37 [==============================] - 0s 5ms/step - loss: 20500082.0000 - val_loss: 21845922.0000\n",
      "Epoch 257/300\n",
      "37/37 [==============================] - 0s 6ms/step - loss: 20495226.0000 - val_loss: 21836402.0000\n",
      "Epoch 258/300\n",
      "37/37 [==============================] - 0s 5ms/step - loss: 20465898.0000 - val_loss: 21841486.0000\n",
      "Epoch 259/300\n",
      "37/37 [==============================] - 0s 6ms/step - loss: 20471976.0000 - val_loss: 21837940.0000\n",
      "Epoch 260/300\n",
      "37/37 [==============================] - 0s 5ms/step - loss: 20483040.0000 - val_loss: 21838108.0000\n",
      "Epoch 261/300\n",
      "37/37 [==============================] - 0s 5ms/step - loss: 20456470.0000 - val_loss: 21810958.0000\n",
      "Epoch 262/300\n",
      "37/37 [==============================] - 0s 5ms/step - loss: 20451528.0000 - val_loss: 21800384.0000\n",
      "Epoch 263/300\n",
      "37/37 [==============================] - 0s 5ms/step - loss: 20418992.0000 - val_loss: 21786754.0000\n",
      "Epoch 264/300\n",
      "37/37 [==============================] - 0s 6ms/step - loss: 20404274.0000 - val_loss: 21768732.0000\n",
      "Epoch 265/300\n",
      "37/37 [==============================] - 0s 5ms/step - loss: 20380846.0000 - val_loss: 21780352.0000\n",
      "Epoch 266/300\n",
      "37/37 [==============================] - 0s 5ms/step - loss: 20385910.0000 - val_loss: 21760780.0000\n",
      "Epoch 267/300\n",
      "37/37 [==============================] - 0s 5ms/step - loss: 20345404.0000 - val_loss: 21755354.0000\n",
      "Epoch 268/300\n",
      "37/37 [==============================] - 0s 5ms/step - loss: 20347712.0000 - val_loss: 21757664.0000\n",
      "Epoch 269/300\n",
      "37/37 [==============================] - 0s 6ms/step - loss: 20325500.0000 - val_loss: 21733202.0000\n",
      "Epoch 270/300\n",
      "37/37 [==============================] - 0s 5ms/step - loss: 20344872.0000 - val_loss: 21749866.0000\n",
      "Epoch 271/300\n",
      "37/37 [==============================] - 0s 5ms/step - loss: 20321012.0000 - val_loss: 21710706.0000\n",
      "Epoch 272/300\n",
      "37/37 [==============================] - 0s 5ms/step - loss: 20297466.0000 - val_loss: 21720408.0000\n",
      "Epoch 273/300\n",
      "37/37 [==============================] - 0s 5ms/step - loss: 20288108.0000 - val_loss: 21710266.0000\n",
      "Epoch 274/300\n",
      "37/37 [==============================] - 0s 6ms/step - loss: 20287142.0000 - val_loss: 21695888.0000\n",
      "Epoch 275/300\n",
      "37/37 [==============================] - 0s 5ms/step - loss: 20262864.0000 - val_loss: 21683288.0000\n",
      "Epoch 276/300\n",
      "37/37 [==============================] - 0s 5ms/step - loss: 20274468.0000 - val_loss: 21717830.0000\n",
      "Epoch 277/300\n",
      "37/37 [==============================] - 0s 5ms/step - loss: 20242850.0000 - val_loss: 21662010.0000\n",
      "Epoch 278/300\n",
      "37/37 [==============================] - 0s 6ms/step - loss: 20227688.0000 - val_loss: 21666602.0000\n",
      "Epoch 279/300\n",
      "37/37 [==============================] - 0s 6ms/step - loss: 20223864.0000 - val_loss: 21641298.0000\n",
      "Epoch 280/300\n",
      "37/37 [==============================] - 0s 5ms/step - loss: 20219622.0000 - val_loss: 21644836.0000\n",
      "Epoch 281/300\n",
      "37/37 [==============================] - 0s 6ms/step - loss: 20223206.0000 - val_loss: 21630718.0000\n",
      "Epoch 282/300\n",
      "37/37 [==============================] - 0s 6ms/step - loss: 20172892.0000 - val_loss: 21609738.0000\n",
      "Epoch 283/300\n",
      "37/37 [==============================] - 0s 6ms/step - loss: 20156738.0000 - val_loss: 21615340.0000\n",
      "Epoch 284/300\n",
      "37/37 [==============================] - 0s 6ms/step - loss: 20148090.0000 - val_loss: 21599924.0000\n",
      "Epoch 285/300\n"
     ]
    },
    {
     "name": "stdout",
     "output_type": "stream",
     "text": [
      "37/37 [==============================] - 0s 6ms/step - loss: 20133190.0000 - val_loss: 21587806.0000\n",
      "Epoch 286/300\n",
      "37/37 [==============================] - 0s 7ms/step - loss: 20166744.0000 - val_loss: 21602326.0000\n",
      "Epoch 287/300\n",
      "37/37 [==============================] - 0s 6ms/step - loss: 20161272.0000 - val_loss: 21579810.0000\n",
      "Epoch 288/300\n",
      "37/37 [==============================] - 0s 6ms/step - loss: 20102772.0000 - val_loss: 21573052.0000\n",
      "Epoch 289/300\n",
      "37/37 [==============================] - 0s 6ms/step - loss: 20087452.0000 - val_loss: 21553072.0000\n",
      "Epoch 290/300\n",
      "37/37 [==============================] - 0s 6ms/step - loss: 20086760.0000 - val_loss: 21560606.0000\n",
      "Epoch 291/300\n",
      "37/37 [==============================] - 0s 5ms/step - loss: 20084368.0000 - val_loss: 21567078.0000\n",
      "Epoch 292/300\n",
      "37/37 [==============================] - 0s 6ms/step - loss: 20058982.0000 - val_loss: 21542852.0000\n",
      "Epoch 293/300\n",
      "37/37 [==============================] - 0s 6ms/step - loss: 20057312.0000 - val_loss: 21548464.0000\n",
      "Epoch 294/300\n",
      "37/37 [==============================] - 0s 6ms/step - loss: 20040734.0000 - val_loss: 21518744.0000\n",
      "Epoch 295/300\n",
      "37/37 [==============================] - 0s 6ms/step - loss: 20027972.0000 - val_loss: 21562380.0000\n",
      "Epoch 296/300\n",
      "37/37 [==============================] - 0s 6ms/step - loss: 20040192.0000 - val_loss: 21502150.0000\n",
      "Epoch 297/300\n",
      "37/37 [==============================] - 0s 6ms/step - loss: 20005292.0000 - val_loss: 21513740.0000\n",
      "Epoch 298/300\n",
      "37/37 [==============================] - 0s 6ms/step - loss: 20025874.0000 - val_loss: 21508776.0000\n",
      "Epoch 299/300\n",
      "37/37 [==============================] - 0s 6ms/step - loss: 19984854.0000 - val_loss: 21489704.0000\n",
      "Epoch 300/300\n",
      "37/37 [==============================] - 0s 6ms/step - loss: 19988266.0000 - val_loss: 21469728.0000\n"
     ]
    },
    {
     "data": {
      "text/plain": [
       "<keras.callbacks.History at 0x1fc5ebde9b0>"
      ]
     },
     "execution_count": 35,
     "metadata": {},
     "output_type": "execute_result"
    }
   ],
   "source": [
    "model.fit(x = x_train, y = y_train, validation_data=(x_test, y_test), batch_size = 250, epochs = 300)\n",
    "# validation data bizim yerimize fiyatlarla uyuşuyor mu diye kontrol eder\n",
    "# batch size ise veri büyük olduğu için parça parça gönderir"
   ]
  },
  {
   "cell_type": "code",
   "execution_count": 36,
   "id": "e8144e8f",
   "metadata": {},
   "outputs": [
    {
     "data": {
      "text/plain": [
       "(9090, 5)"
      ]
     },
     "execution_count": 36,
     "metadata": {},
     "output_type": "execute_result"
    }
   ],
   "source": [
    "x_train.shape"
   ]
  },
  {
   "cell_type": "code",
   "execution_count": 37,
   "id": "964df8cd",
   "metadata": {},
   "outputs": [],
   "source": [
    "kayipveri = pd.DataFrame(model.history.history)"
   ]
  },
  {
   "cell_type": "code",
   "execution_count": 39,
   "id": "ae3474e6",
   "metadata": {},
   "outputs": [
    {
     "data": {
      "text/html": [
       "<div>\n",
       "<style scoped>\n",
       "    .dataframe tbody tr th:only-of-type {\n",
       "        vertical-align: middle;\n",
       "    }\n",
       "\n",
       "    .dataframe tbody tr th {\n",
       "        vertical-align: top;\n",
       "    }\n",
       "\n",
       "    .dataframe thead th {\n",
       "        text-align: right;\n",
       "    }\n",
       "</style>\n",
       "<table border=\"1\" class=\"dataframe\">\n",
       "  <thead>\n",
       "    <tr style=\"text-align: right;\">\n",
       "      <th></th>\n",
       "      <th>loss</th>\n",
       "      <th>val_loss</th>\n",
       "    </tr>\n",
       "  </thead>\n",
       "  <tbody>\n",
       "    <tr>\n",
       "      <th>0</th>\n",
       "      <td>672146560.0</td>\n",
       "      <td>688104256.0</td>\n",
       "    </tr>\n",
       "    <tr>\n",
       "      <th>1</th>\n",
       "      <td>672129088.0</td>\n",
       "      <td>688079744.0</td>\n",
       "    </tr>\n",
       "    <tr>\n",
       "      <th>2</th>\n",
       "      <td>672089856.0</td>\n",
       "      <td>688018112.0</td>\n",
       "    </tr>\n",
       "    <tr>\n",
       "      <th>3</th>\n",
       "      <td>671996736.0</td>\n",
       "      <td>687877248.0</td>\n",
       "    </tr>\n",
       "    <tr>\n",
       "      <th>4</th>\n",
       "      <td>671792448.0</td>\n",
       "      <td>687580480.0</td>\n",
       "    </tr>\n",
       "  </tbody>\n",
       "</table>\n",
       "</div>"
      ],
      "text/plain": [
       "          loss     val_loss\n",
       "0  672146560.0  688104256.0\n",
       "1  672129088.0  688079744.0\n",
       "2  672089856.0  688018112.0\n",
       "3  671996736.0  687877248.0\n",
       "4  671792448.0  687580480.0"
      ]
     },
     "execution_count": 39,
     "metadata": {},
     "output_type": "execute_result"
    }
   ],
   "source": [
    "kayipveri.head()"
   ]
  },
  {
   "cell_type": "code",
   "execution_count": 40,
   "id": "80114577",
   "metadata": {},
   "outputs": [
    {
     "data": {
      "text/plain": [
       "<Axes: >"
      ]
     },
     "execution_count": 40,
     "metadata": {},
     "output_type": "execute_result"
    },
    {
     "data": {
      "image/png": "[encoded data removed]",
      "text/plain": [
       "<Figure size 640x480 with 1 Axes>"
      ]
     },
     "metadata": {},
     "output_type": "display_data"
    }
   ],
   "source": [
    "kayipveri.plot()"
   ]
  },
  {
   "cell_type": "code",
   "execution_count": 41,
   "id": "05729d80",
   "metadata": {},
   "outputs": [],
   "source": [
    "from sklearn.metrics import mean_absolute_error, mean_squared_error"
   ]
  },
  {
   "cell_type": "code",
   "execution_count": 44,
   "id": "305bae54",
   "metadata": {},
   "outputs": [
    {
     "name": "stdout",
     "output_type": "stream",
     "text": [
      "122/122 [==============================] - 0s 2ms/step\n"
     ]
    }
   ],
   "source": [
    "tahminx = model.predict(x_test)"
   ]
  },
  {
   "cell_type": "code",
   "execution_count": 45,
   "id": "5abb3ae8",
   "metadata": {},
   "outputs": [
    {
     "data": {
      "text/plain": [
       "array([[22352.572],\n",
       "       [23692.26 ],\n",
       "       [24952.578],\n",
       "       ...,\n",
       "       [26358.377],\n",
       "       [ 9635.544],\n",
       "       [24756.42 ]], dtype=float32)"
      ]
     },
     "execution_count": 45,
     "metadata": {},
     "output_type": "execute_result"
    }
   ],
   "source": [
    "tahminx"
   ]
  },
  {
   "cell_type": "code",
   "execution_count": 47,
   "id": "6fe48aeb",
   "metadata": {},
   "outputs": [
    {
     "data": {
      "text/plain": [
       "3304.425754687099"
      ]
     },
     "execution_count": 47,
     "metadata": {},
     "output_type": "execute_result"
    }
   ],
   "source": [
    "mean_absolute_error(y_test,tahminx)"
   ]
  },
  {
   "cell_type": "code",
   "execution_count": 48,
   "id": "6744ae78",
   "metadata": {},
   "outputs": [
    {
     "data": {
      "text/plain": [
       "[<matplotlib.lines.Line2D at 0x1fc657a7d90>]"
      ]
     },
     "execution_count": 48,
     "metadata": {},
     "output_type": "execute_result"
    },
    {
     "data": {
      "image/png": "[encoded data removed]",
      "text/plain": [
       "<Figure size 640x480 with 1 Axes>"
      ]
     },
     "metadata": {},
     "output_type": "display_data"
    }
   ],
   "source": [
    "plt.scatter(y_test,tahminx)\n",
    "plt.plot(y_test,y_test,\"g*-\")"
   ]
  },
  {
   "cell_type": "code",
   "execution_count": 49,
   "id": "84aaac3f",
   "metadata": {},
   "outputs": [
    {
     "data": {
      "text/plain": [
       "year           2020.0\n",
       "price         65990.0\n",
       "mileage         999.0\n",
       "tax             145.0\n",
       "mpg              28.0\n",
       "engineSize        4.0\n",
       "Name: 5779, dtype: float64"
      ]
     },
     "execution_count": 49,
     "metadata": {},
     "output_type": "execute_result"
    }
   ],
   "source": [
    "df.iloc[1]"
   ]
  },
  {
   "cell_type": "code",
   "execution_count": 54,
   "id": "2a2df172",
   "metadata": {},
   "outputs": [],
   "source": [
    "yeniarapseries = df.drop(\"price\", axis=1).iloc[1]"
   ]
  },
  {
   "cell_type": "code",
   "execution_count": 55,
   "id": "26ff3207",
   "metadata": {},
   "outputs": [
    {
     "data": {
      "text/plain": [
       "year          2020.0\n",
       "mileage        999.0\n",
       "tax            145.0\n",
       "mpg             28.0\n",
       "engineSize       4.0\n",
       "Name: 5779, dtype: float64"
      ]
     },
     "execution_count": 55,
     "metadata": {},
     "output_type": "execute_result"
    }
   ],
   "source": [
    "yeniarapseries"
   ]
  },
  {
   "cell_type": "code",
   "execution_count": 56,
   "id": "983a7a84",
   "metadata": {},
   "outputs": [],
   "source": [
    "yeniarapseries = scaler.transform(yeniarapseries.values.reshape(-1,5))"
   ]
  },
  {
   "cell_type": "code",
   "execution_count": 57,
   "id": "05a346a4",
   "metadata": {},
   "outputs": [
    {
     "name": "stdout",
     "output_type": "stream",
     "text": [
      "1/1 [==============================] - 0s 30ms/step\n"
     ]
    },
    {
     "data": {
      "text/plain": [
       "array([[62212.793]], dtype=float32)"
      ]
     },
     "execution_count": 57,
     "metadata": {},
     "output_type": "execute_result"
    }
   ],
   "source": [
    "model.predict(yeniarapseries)"
   ]
  },
  {
   "cell_type": "code",
   "execution_count": null,
   "id": "9da4e8de",
   "metadata": {},
   "outputs": [],
   "source": []
  }
 ],
 "metadata": {
  "kernelspec": {
   "display_name": "Python 3 (ipykernel)",
   "language": "python",
   "name": "python3"
  },
  "language_info": {
   "codemirror_mode": {
    "name": "ipython",
    "version": 3
   },
   "file_extension": ".py",
   "mimetype": "text/x-python",
   "name": "python",
   "nbconvert_exporter": "python",
   "pygments_lexer": "ipython3",
   "version": "3.10.9"
  }
 },
 "nbformat": 4,
 "nbformat_minor": 5
}
